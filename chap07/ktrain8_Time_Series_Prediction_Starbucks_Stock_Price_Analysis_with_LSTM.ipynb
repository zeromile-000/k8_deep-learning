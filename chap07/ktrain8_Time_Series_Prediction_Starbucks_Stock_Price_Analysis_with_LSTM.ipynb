{
  "cells": [
    {
      "cell_type": "markdown",
      "metadata": {
        "id": "G3KD7xHe2vNc"
      },
      "source": [
        "# 0. 자신이 사용하는 torch 버전과 GPU 사용 가능 여부를 확인하세요."
      ]
    },
    {
      "cell_type": "code",
      "execution_count": 449,
      "metadata": {},
      "outputs": [],
      "source": [
        "import torch\n",
        "import numpy as np\n",
        "import torch.nn as nn\n",
        "import torchvision.transforms.v2 as v2\n",
        "device = torch.device(\"cuda:0\" if torch.cuda.is_available() else \"cpu\")\n"
      ]
    },
    {
      "cell_type": "code",
      "execution_count": 450,
      "metadata": {
        "colab": {
          "base_uri": "https://localhost:8080/"
        },
        "id": "-Xgl77Km2t0F",
        "outputId": "5d569ce3-6533-4fd5-de43-ff726503e4f2"
      },
      "outputs": [
        {
          "data": {
            "text/plain": [
              "'2.2.2'"
            ]
          },
          "execution_count": 450,
          "metadata": {},
          "output_type": "execute_result"
        }
      ],
      "source": [
        "torch.__version__"
      ]
    },
    {
      "cell_type": "code",
      "execution_count": 451,
      "metadata": {
        "colab": {
          "base_uri": "https://localhost:8080/"
        },
        "id": "relTZHRB22m8",
        "outputId": "d781e123-964c-499e-c39c-48446b6b4265"
      },
      "outputs": [
        {
          "data": {
            "text/plain": [
              "True"
            ]
          },
          "execution_count": 451,
          "metadata": {},
          "output_type": "execute_result"
        }
      ],
      "source": [
        "torch.cuda.is_available()"
      ]
    },
    {
      "cell_type": "markdown",
      "metadata": {
        "id": "k5W6bnNp2MoG"
      },
      "source": [
        "# 1. input_size 가 1이고, hidden_size 10인 RNN 객체를 생성하시오. (1, 1, 1) 데이터를 torch.rand 로 생성 후, RNN 객체에 전달하여 출력값을 확인하시오. (데이터 값, shape)\n",
        "\n",
        "* RNN 객체 생성 시 batch 데이터의 위치를 고려하시오.\n",
        "* RNN 객체의 반환값 형태에 주의하시오. (공식 문서 참고)"
      ]
    },
    {
      "cell_type": "code",
      "execution_count": 452,
      "metadata": {
        "colab": {
          "base_uri": "https://localhost:8080/"
        },
        "id": "U8QwqpEW1MJJ",
        "outputId": "be6aee8f-19e2-48ed-91da-1e15d5220360"
      },
      "outputs": [],
      "source": [
        "rnn = nn.RNN(1,10,batch_first=True)\n"
      ]
    },
    {
      "cell_type": "code",
      "execution_count": 453,
      "metadata": {
        "colab": {
          "base_uri": "https://localhost:8080/"
        },
        "id": "HYMnPhwr2pgV",
        "outputId": "31022795-8ac6-494f-d039-18355bae58c1"
      },
      "outputs": [],
      "source": [
        "x = torch.rand(1,1,1)"
      ]
    },
    {
      "cell_type": "code",
      "execution_count": 454,
      "metadata": {},
      "outputs": [],
      "source": [
        "y,h = rnn(x)"
      ]
    },
    {
      "cell_type": "code",
      "execution_count": 455,
      "metadata": {},
      "outputs": [
        {
          "data": {
            "text/plain": [
              "(torch.Size([1, 1, 10]), torch.Size([1, 1, 10]))"
            ]
          },
          "execution_count": 455,
          "metadata": {},
          "output_type": "execute_result"
        }
      ],
      "source": [
        "y.shape, h.shape"
      ]
    },
    {
      "cell_type": "markdown",
      "metadata": {
        "id": "phA0iH892-08"
      },
      "source": [
        "# 2. input_size 가 2이고, hidden_size 5인 RNN 객체를 생성하시오. (1, 1, 2) 데이터를 torch.rand 로 생성 후, RNN 객체에 전달하여 출력값을 확인하시오. (데이터 값, shape)"
      ]
    },
    {
      "cell_type": "code",
      "execution_count": 456,
      "metadata": {
        "colab": {
          "base_uri": "https://localhost:8080/"
        },
        "id": "J1gVN6B_3FVn",
        "outputId": "b0ff6e10-a3c7-480b-8417-b966d83933fc"
      },
      "outputs": [],
      "source": [
        "rnn2 = nn.RNN(2, 5, batch_first=True)"
      ]
    },
    {
      "cell_type": "code",
      "execution_count": 457,
      "metadata": {},
      "outputs": [],
      "source": [
        "x2 = torch.rand(1,1,2)\n",
        "y2, h2 = rnn2(x2)\n"
      ]
    },
    {
      "cell_type": "code",
      "execution_count": 458,
      "metadata": {
        "colab": {
          "base_uri": "https://localhost:8080/"
        },
        "id": "wdbFkU5C3G6y",
        "outputId": "d82c8f1b-05b1-422f-98be-819b0c2ee21f"
      },
      "outputs": [
        {
          "data": {
            "text/plain": [
              "(torch.Size([1, 1, 5]), torch.Size([1, 1, 5]))"
            ]
          },
          "execution_count": 458,
          "metadata": {},
          "output_type": "execute_result"
        }
      ],
      "source": [
        "y2.shape, h2.shape"
      ]
    },
    {
      "cell_type": "markdown",
      "metadata": {
        "id": "6o2cWJCV3MJA"
      },
      "source": [
        "# 3. input_size 가 1이고, hidden_size 10인 LSTM 객체를 생성하시오. (1, 1, 1) 데이터를 torch.rand 로 생성 후, LSTM 객체에 전달하여 출력값을 확인하시오. (데이터 값, shape)\n",
        "\n",
        "* LSTM 객체 생성 시 batch 데이터의 위치를 고려하시오.\n",
        "* LSTM 객체의 반환값 형태에 주의하시오. (공식 문서 참고)"
      ]
    },
    {
      "cell_type": "code",
      "execution_count": 459,
      "metadata": {
        "colab": {
          "base_uri": "https://localhost:8080/"
        },
        "id": "Evt9Y21z3Uh2",
        "outputId": "fe7754a7-43d2-4dd2-ea28-cb1ee1faa8b7"
      },
      "outputs": [],
      "source": [
        "lstm = nn.LSTM(1, 10, batch_first=True)"
      ]
    },
    {
      "cell_type": "code",
      "execution_count": 460,
      "metadata": {
        "colab": {
          "base_uri": "https://localhost:8080/"
        },
        "id": "ILCL-zca3V4N",
        "outputId": "3bb2681b-43f4-4a30-854b-208f238bf360"
      },
      "outputs": [],
      "source": [
        "x3 = torch.rand(1,1,1)\n",
        "y3, (h3,zz) = lstm(x3)"
      ]
    },
    {
      "cell_type": "code",
      "execution_count": 461,
      "metadata": {},
      "outputs": [
        {
          "data": {
            "text/plain": [
              "(torch.Size([1, 1, 10]), torch.Size([1, 1, 10]), torch.Size([1, 1, 10]))"
            ]
          },
          "execution_count": 461,
          "metadata": {},
          "output_type": "execute_result"
        }
      ],
      "source": [
        "y3.shape, h3.shape, zz.shape"
      ]
    },
    {
      "cell_type": "markdown",
      "metadata": {
        "id": "vqHj1xY73iLM"
      },
      "source": [
        "# 4. input_size 가 2이고, hidden_size 5인 LSTM 객체를 생성하시오. (1, 1, 2) 데이터를 torch.rand 로 생성 후, LSTM 객체에 전달하여 출력값을 확인하시오. (데이터 값, shape)"
      ]
    },
    {
      "cell_type": "code",
      "execution_count": 462,
      "metadata": {
        "colab": {
          "base_uri": "https://localhost:8080/"
        },
        "id": "TsYFH4D33Zj-",
        "outputId": "df36c195-03f3-450a-84d0-04e2f0796aba"
      },
      "outputs": [],
      "source": [
        "lstm2 = nn.LSTM(2, 5, batch_first=True)\n",
        "x4 = torch.rand(1,1,2)\n",
        "y4, (h4, zz1) = lstm2(x4)"
      ]
    },
    {
      "cell_type": "code",
      "execution_count": 463,
      "metadata": {
        "colab": {
          "base_uri": "https://localhost:8080/"
        },
        "id": "-JfOzctd30Ga",
        "outputId": "fb722173-ab79-4a1e-d8de-ffbf7cb355a2"
      },
      "outputs": [
        {
          "data": {
            "text/plain": [
              "(torch.Size([1, 1, 5]), torch.Size([1, 1, 5]), torch.Size([1, 1, 5]))"
            ]
          },
          "execution_count": 463,
          "metadata": {},
          "output_type": "execute_result"
        }
      ],
      "source": [
        "y4.shape, h4.shape, zz1.shape"
      ]
    },
    {
      "cell_type": "markdown",
      "metadata": {
        "id": "l-rxn_C933q8"
      },
      "source": [
        "# 5. input_size 가 1 이고 seq_len 이 30 인 입력 데이터를 torch.rand 로 생성하시오. 3번에서 생성한 LSTM 객체를 이용하여 LSTM 객체에 전달하여 출력값을 확인하시오 (shape)"
      ]
    },
    {
      "cell_type": "code",
      "execution_count": 464,
      "metadata": {
        "colab": {
          "base_uri": "https://localhost:8080/"
        },
        "id": "Vcfo8lBo31dh",
        "outputId": "1ceb73ae-1592-468a-ad75-0dcf462b0171"
      },
      "outputs": [
        {
          "data": {
            "text/plain": [
              "(torch.Size([1, 30, 10]), torch.Size([1, 1, 10]), torch.Size([1, 1, 10]))"
            ]
          },
          "execution_count": 464,
          "metadata": {},
          "output_type": "execute_result"
        }
      ],
      "source": [
        "x5 = torch.rand(1, 30, 1)\n",
        "lstm = nn.LSTM(1, 10, batch_first=True)\n",
        "y5, (h5, zz2) = lstm(x5)\n",
        "y5.shape, h5.shape, zz2.shape"
      ]
    },
    {
      "cell_type": "markdown",
      "metadata": {
        "id": "pUbbZ93i4lwM"
      },
      "source": [
        "# 6. input_size 가 2 이고 seq_len 이 60 인 입력 데이터를 torch.rand 로 생성하시오. 4번에서 생성한 LSTM 객체를 이용하여 LSTM 객체에 전달하여 출력값을 확인하시오 (shape)"
      ]
    },
    {
      "cell_type": "code",
      "execution_count": 465,
      "metadata": {
        "colab": {
          "base_uri": "https://localhost:8080/"
        },
        "id": "344ZjsEJ4jlV",
        "outputId": "07bdbfcd-9d9c-4368-bfa3-f03b059fabf0"
      },
      "outputs": [
        {
          "data": {
            "text/plain": [
              "(torch.Size([1, 60, 10]), torch.Size([1, 1, 10]), torch.Size([1, 1, 10]))"
            ]
          },
          "execution_count": 465,
          "metadata": {},
          "output_type": "execute_result"
        }
      ],
      "source": [
        "x6 = torch.rand(1, 60, 2)\n",
        "lstm2 = nn.LSTM(2, 10, batch_first=True)\n",
        "y6, (h6, zz3) = lstm(x6)\n",
        "y6.shape, h6.shape, zz3.shape"
      ]
    },
    {
      "cell_type": "markdown",
      "metadata": {
        "id": "7_hSd57h45o_"
      },
      "source": [
        "# 7. 순환신경망에서 many-to-one 모델은 여러 개의 입력을 받아 하나의 값을 출력하는 구조이다.\n",
        "\n",
        "* 예를 들어, 스타벅스 주가를 예측하려고 할 때, **과거 30일의 주가 데이터**를 이용하여 **내일의 주가**를 예측하는 경우이다.\n",
        "\n",
        "* 예를 참고하여 이에 알맞은 입력 데이터와 LSTM 모델을 생성하고 출력값의 shape 을 확인하세요. (단, batch_size=32, hidden_size=10 이다.)"
      ]
    },
    {
      "cell_type": "code",
      "execution_count": 466,
      "metadata": {
        "colab": {
          "base_uri": "https://localhost:8080/"
        },
        "id": "cIU4G8Ek517S",
        "outputId": "68a18287-4513-483c-ac7f-eb06ac64cfe1"
      },
      "outputs": [
        {
          "data": {
            "text/plain": [
              "(torch.Size([32, 30, 10]), torch.Size([1, 32, 10]), torch.Size([1, 32, 10]))"
            ]
          },
          "execution_count": 466,
          "metadata": {},
          "output_type": "execute_result"
        }
      ],
      "source": [
        "x = torch.rand(32, 30, 1)\n",
        "lstm = nn.LSTM(1, 10, batch_first=True)\n",
        "y, (h,z) = lstm(x)\n",
        "y.shape, h.shape, z.shape"
      ]
    },
    {
      "cell_type": "markdown",
      "metadata": {
        "id": "uTlLyM3172kz"
      },
      "source": [
        "# 8. 순환신경망에서 many-to-one 모델은 여러 개의 입력을 받아 하나의 값을 출력하는 구조이다.\n",
        "\n",
        "* 예를 들어, 스타벅스 주가를 예측하려고 할 때, **과거 30일의 주가와 거래량 데이터**를 이용하여 **내일의 주가**를 예측하는 경우이다.\n",
        "\n",
        "* 예를 참고하여 이에 알맞은 입력 데이터와 LSTM 모델을 생성하고 출력값의 shape 을 확인하세요. (단, batch_size=32, hidden_size=10 이다.)"
      ]
    },
    {
      "cell_type": "code",
      "execution_count": 467,
      "metadata": {
        "colab": {
          "base_uri": "https://localhost:8080/"
        },
        "id": "1AOz5_Ge6Ldz",
        "outputId": "cdf01344-9644-4c42-a738-9e86488fbaf6"
      },
      "outputs": [
        {
          "data": {
            "text/plain": [
              "(torch.Size([32, 30, 10]), torch.Size([1, 32, 10]), torch.Size([1, 32, 10]))"
            ]
          },
          "execution_count": 467,
          "metadata": {},
          "output_type": "execute_result"
        }
      ],
      "source": [
        "x = torch.rand(32, 30, 2)\n",
        "lstm = nn.LSTM(2, 10, batch_first=True)\n",
        "y, (h,z) = lstm(x)\n",
        "y.shape, h.shape, z.shape"
      ]
    },
    {
      "cell_type": "markdown",
      "metadata": {
        "id": "KE7SMjEP8UUi"
      },
      "source": [
        "# 9. 8번의 출력에서 가장 마지막 출력값을 내일의 스타벅스 주가로 정했다. 해당 값을 출력하시오. (slicing 이용)"
      ]
    },
    {
      "cell_type": "code",
      "execution_count": 468,
      "metadata": {
        "colab": {
          "base_uri": "https://localhost:8080/"
        },
        "id": "aZKRZB4E8P-y",
        "outputId": "7f5eceef-1d42-4efb-fd06-c6178da5469c"
      },
      "outputs": [
        {
          "data": {
            "text/plain": [
              "tensor([[-0.2417, -0.1252, -0.0975,  0.0449,  0.0059, -0.1402,  0.1263, -0.1202,\n",
              "          0.1659,  0.0194],\n",
              "        [-0.2290, -0.1043, -0.0876,  0.0404,  0.0355, -0.1278,  0.1101, -0.1157,\n",
              "          0.1665,  0.0160],\n",
              "        [-0.2645, -0.1693, -0.1080,  0.0720, -0.0292, -0.1670,  0.1315, -0.1058,\n",
              "          0.1793,  0.0089],\n",
              "        [-0.2167, -0.0937, -0.0978,  0.0192,  0.0195, -0.1137,  0.1254, -0.1353,\n",
              "          0.1582,  0.0223],\n",
              "        [-0.2553, -0.1604, -0.0913,  0.0776,  0.0272, -0.1732,  0.1187, -0.0947,\n",
              "          0.1804,  0.0050],\n",
              "        [-0.2044, -0.0646, -0.1022, -0.0024,  0.0030, -0.0885,  0.1265, -0.1525,\n",
              "          0.1515,  0.0315],\n",
              "        [-0.2139, -0.0627, -0.0791,  0.0136,  0.0460, -0.0988,  0.1044, -0.1278,\n",
              "          0.1530,  0.0245],\n",
              "        [-0.2274, -0.1247, -0.1053,  0.0372, -0.0003, -0.1345,  0.1282, -0.1290,\n",
              "          0.1702,  0.0215],\n",
              "        [-0.2454, -0.1314, -0.0916,  0.0574,  0.0115, -0.1526,  0.1135, -0.1123,\n",
              "          0.1754,  0.0194],\n",
              "        [-0.2342, -0.0946, -0.0740,  0.0398,  0.0589, -0.1278,  0.1042, -0.1128,\n",
              "          0.1607,  0.0140],\n",
              "        [-0.2150, -0.0595, -0.0776,  0.0163,  0.0511, -0.0944,  0.0936, -0.1195,\n",
              "          0.1541,  0.0184],\n",
              "        [-0.2157, -0.1097, -0.1170,  0.0220, -0.0146, -0.1153,  0.1355, -0.1395,\n",
              "          0.1626,  0.0245],\n",
              "        [-0.2108, -0.0644, -0.0675,  0.0190,  0.0736, -0.1041,  0.0972, -0.1227,\n",
              "          0.1562,  0.0184],\n",
              "        [-0.2684, -0.2001, -0.1218,  0.0792, -0.0455, -0.1867,  0.1459, -0.1080,\n",
              "          0.1889,  0.0045],\n",
              "        [-0.2373, -0.1032, -0.0776,  0.0494,  0.0484, -0.1336,  0.1018, -0.1078,\n",
              "          0.1654,  0.0147],\n",
              "        [-0.2145, -0.0939, -0.1110,  0.0182, -0.0093, -0.1061,  0.1281, -0.1414,\n",
              "          0.1608,  0.0275],\n",
              "        [-0.2272, -0.0568, -0.0402,  0.0424,  0.1215, -0.1146,  0.0590, -0.0933,\n",
              "          0.1579,  0.0119],\n",
              "        [-0.2475, -0.1191, -0.0889,  0.0539,  0.0192, -0.1372,  0.1045, -0.1000,\n",
              "          0.1698,  0.0103],\n",
              "        [-0.2327, -0.0851, -0.0634,  0.0468,  0.0787, -0.1242,  0.0832, -0.0989,\n",
              "          0.1629,  0.0100],\n",
              "        [-0.2743, -0.2016, -0.1150,  0.0849, -0.0338, -0.1923,  0.1425, -0.1025,\n",
              "          0.1878,  0.0032],\n",
              "        [-0.2065, -0.0465, -0.0757, -0.0007,  0.0512, -0.0882,  0.1080, -0.1411,\n",
              "          0.1475,  0.0283],\n",
              "        [-0.2334, -0.1121, -0.0849,  0.0481,  0.0354, -0.1379,  0.1091, -0.1130,\n",
              "          0.1695,  0.0182],\n",
              "        [-0.2629, -0.1512, -0.0770,  0.0831,  0.0532, -0.1761,  0.1033, -0.0872,\n",
              "          0.1792,  0.0031],\n",
              "        [-0.2528, -0.1511, -0.1079,  0.0557, -0.0168, -0.1533,  0.1323, -0.1149,\n",
              "          0.1753,  0.0099],\n",
              "        [-0.2059, -0.0574, -0.1026,  0.0020, -0.0010, -0.0834,  0.1180, -0.1505,\n",
              "          0.1551,  0.0327],\n",
              "        [-0.1973, -0.0487, -0.0689,  0.0015,  0.0706, -0.0887,  0.1008, -0.1320,\n",
              "          0.1497,  0.0242],\n",
              "        [-0.2182, -0.0590, -0.0751,  0.0186,  0.0464, -0.1004,  0.0999, -0.1307,\n",
              "          0.1557,  0.0272],\n",
              "        [-0.2127, -0.0595, -0.0745,  0.0156,  0.0622, -0.0979,  0.0942, -0.1231,\n",
              "          0.1571,  0.0188],\n",
              "        [-0.2275, -0.0622, -0.0543,  0.0374,  0.0941, -0.1098,  0.0692, -0.0972,\n",
              "          0.1574,  0.0123],\n",
              "        [-0.2325, -0.0979, -0.0907,  0.0376,  0.0221, -0.1186,  0.1075, -0.1137,\n",
              "          0.1628,  0.0161],\n",
              "        [-0.2226, -0.1035, -0.1133,  0.0212, -0.0295, -0.1137,  0.1355, -0.1484,\n",
              "          0.1608,  0.0323],\n",
              "        [-0.1940, -0.0473, -0.1034, -0.0116,  0.0062, -0.0733,  0.1182, -0.1489,\n",
              "          0.1478,  0.0323]], grad_fn=<SliceBackward0>)"
            ]
          },
          "execution_count": 468,
          "metadata": {},
          "output_type": "execute_result"
        }
      ],
      "source": [
        "y[:,-1,:] "
      ]
    },
    {
      "cell_type": "markdown",
      "metadata": {
        "id": "1y54DIPz8rMm"
      },
      "source": [
        "# 10. 9번의 마지막 출력값의 모양이 1이 아니라 10이다. 이를 위해, Linear 레이어를 추가하여 마지막 출력이 (32, 1) 가 되도록 코드를 작성하시오.\n",
        "\n",
        "* 입력데이터 > LSTM > Linear > 출력데이터 순서로 코드를 작성하시오."
      ]
    },
    {
      "cell_type": "code",
      "execution_count": 469,
      "metadata": {
        "colab": {
          "base_uri": "https://localhost:8080/"
        },
        "id": "Gc3cWwgl8nEh",
        "outputId": "19afc49a-94de-4333-f9a4-4ba79c7b617d"
      },
      "outputs": [
        {
          "data": {
            "text/plain": [
              "torch.Size([32, 1])"
            ]
          },
          "execution_count": 469,
          "metadata": {},
          "output_type": "execute_result"
        }
      ],
      "source": [
        "x = torch.rand(32, 30, 1)\n",
        "lstm = nn.LSTM(1, 10, batch_first=True)\n",
        "y, (h,z) = lstm(x)\n",
        "linear = nn.Linear(10,1)\n",
        "linear(y[:,-1,:]).shape"
      ]
    },
    {
      "cell_type": "markdown",
      "metadata": {
        "id": "KLfUO0M49_gC"
      },
      "source": [
        "# 11. 10번에서 LSTM 객체와 Linear 객체를 nn.Sequential 로 하나로 묶어 model 변수에 저장해 보세요. 그런 다음 입력 데이터를 전달하여 출력을 확인해 보세요. 에러가 발생하면 가능한 방법을 고민하여 구현해 보세요. (hint: nn.Module)"
      ]
    },
    {
      "cell_type": "code",
      "execution_count": 470,
      "metadata": {},
      "outputs": [],
      "source": [
        "class StockPrediction(nn.Module):\n",
        "  def __init__(self, input_size= 1, hidden_size=10, output_size=1):\n",
        "    super().__init__()\n",
        "    self.input_size = input_size\n",
        "    self.hidden_size = hidden_size\n",
        "    self.output_size = output_size\n",
        "    self.lstm = nn.LSTM(input_size, hidden_size, batch_first=True)\n",
        "    self.linear = nn.Linear(hidden_size, output_size)\n",
        "    \n",
        "  def forward(self, x):\n",
        "    y, (h, c) = self.lstm(x)\n",
        "    x = self.linear(y[:,-1,:])\n",
        "    return x"
      ]
    },
    {
      "cell_type": "code",
      "execution_count": 471,
      "metadata": {},
      "outputs": [],
      "source": [
        "model = StockPrediction(1, 10, 1)"
      ]
    },
    {
      "cell_type": "code",
      "execution_count": 472,
      "metadata": {
        "id": "gyUToyR79bi8"
      },
      "outputs": [],
      "source": [
        "# nn.Sequential(lstm, linear)\n",
        "# model(data).to"
      ]
    },
    {
      "cell_type": "code",
      "execution_count": 473,
      "metadata": {
        "colab": {
          "base_uri": "https://localhost:8080/"
        },
        "id": "r_ZfIIPt-kfo",
        "outputId": "910fc258-b8a8-409e-9fb9-d869e5174822"
      },
      "outputs": [
        {
          "data": {
            "text/plain": [
              "torch.Size([32, 1])"
            ]
          },
          "execution_count": 473,
          "metadata": {},
          "output_type": "execute_result"
        }
      ],
      "source": [
        "data = torch.rand(32, 30, 2)\n",
        "model(data).shape"
      ]
    },
    {
      "cell_type": "markdown",
      "metadata": {
        "id": "w-84SIT0-02o"
      },
      "source": [
        "# 12. yfinance 라이브러리를 이용하여 스타벅스(ticker=SUBX) 주가를 다운로드 합니다. 다음으로 Close 데이터만 data 변수에 저장한 후, type 과 shape 을 확인해 봅니다.\n",
        "\n",
        "* yfinance 데이터는 column 인덱스가 MultiIndex 입니다.\n",
        "\n",
        "```\n",
        "pip install yfinance\n",
        "```\n",
        "\n"
      ]
    },
    {
      "cell_type": "code",
      "execution_count": 474,
      "metadata": {},
      "outputs": [
        {
          "name": "stdout",
          "output_type": "stream",
          "text": [
            "Requirement already satisfied: yfinance in c:\\users\\user\\anaconda3\\envs\\py3_11\\lib\\site-packages (0.2.51)\n",
            "Requirement already satisfied: pandas>=1.3.0 in c:\\users\\user\\anaconda3\\envs\\py3_11\\lib\\site-packages (from yfinance) (2.2.3)\n",
            "Requirement already satisfied: numpy>=1.16.5 in c:\\users\\user\\anaconda3\\envs\\py3_11\\lib\\site-packages (from yfinance) (1.26.4)\n",
            "Requirement already satisfied: requests>=2.31 in c:\\users\\user\\anaconda3\\envs\\py3_11\\lib\\site-packages (from yfinance) (2.32.3)\n",
            "Requirement already satisfied: multitasking>=0.0.7 in c:\\users\\user\\anaconda3\\envs\\py3_11\\lib\\site-packages (from yfinance) (0.0.11)\n",
            "Requirement already satisfied: lxml>=4.9.1 in c:\\users\\user\\anaconda3\\envs\\py3_11\\lib\\site-packages (from yfinance) (5.3.0)\n",
            "Requirement already satisfied: platformdirs>=2.0.0 in c:\\users\\user\\anaconda3\\envs\\py3_11\\lib\\site-packages (from yfinance) (4.3.6)\n",
            "Requirement already satisfied: pytz>=2022.5 in c:\\users\\user\\anaconda3\\envs\\py3_11\\lib\\site-packages (from yfinance) (2024.2)\n",
            "Requirement already satisfied: frozendict>=2.3.4 in c:\\users\\user\\anaconda3\\envs\\py3_11\\lib\\site-packages (from yfinance) (2.4.6)\n",
            "Requirement already satisfied: peewee>=3.16.2 in c:\\users\\user\\anaconda3\\envs\\py3_11\\lib\\site-packages (from yfinance) (3.17.8)\n",
            "Requirement already satisfied: beautifulsoup4>=4.11.1 in c:\\users\\user\\anaconda3\\envs\\py3_11\\lib\\site-packages (from yfinance) (4.12.3)\n",
            "Requirement already satisfied: html5lib>=1.1 in c:\\users\\user\\anaconda3\\envs\\py3_11\\lib\\site-packages (from yfinance) (1.1)\n",
            "Requirement already satisfied: soupsieve>1.2 in c:\\users\\user\\anaconda3\\envs\\py3_11\\lib\\site-packages (from beautifulsoup4>=4.11.1->yfinance) (2.6)\n",
            "Requirement already satisfied: six>=1.9 in c:\\users\\user\\anaconda3\\envs\\py3_11\\lib\\site-packages (from html5lib>=1.1->yfinance) (1.17.0)\n",
            "Requirement already satisfied: webencodings in c:\\users\\user\\anaconda3\\envs\\py3_11\\lib\\site-packages (from html5lib>=1.1->yfinance) (0.5.1)\n",
            "Requirement already satisfied: python-dateutil>=2.8.2 in c:\\users\\user\\anaconda3\\envs\\py3_11\\lib\\site-packages (from pandas>=1.3.0->yfinance) (2.9.0.post0)\n",
            "Requirement already satisfied: tzdata>=2022.7 in c:\\users\\user\\anaconda3\\envs\\py3_11\\lib\\site-packages (from pandas>=1.3.0->yfinance) (2024.2)\n",
            "Requirement already satisfied: charset-normalizer<4,>=2 in c:\\users\\user\\anaconda3\\envs\\py3_11\\lib\\site-packages (from requests>=2.31->yfinance) (3.3.2)\n",
            "Requirement already satisfied: idna<4,>=2.5 in c:\\users\\user\\anaconda3\\envs\\py3_11\\lib\\site-packages (from requests>=2.31->yfinance) (3.7)\n",
            "Requirement already satisfied: urllib3<3,>=1.21.1 in c:\\users\\user\\anaconda3\\envs\\py3_11\\lib\\site-packages (from requests>=2.31->yfinance) (2.2.3)\n",
            "Requirement already satisfied: certifi>=2017.4.17 in c:\\users\\user\\anaconda3\\envs\\py3_11\\lib\\site-packages (from requests>=2.31->yfinance) (2024.12.14)\n"
          ]
        }
      ],
      "source": [
        "!pip install yfinance"
      ]
    },
    {
      "cell_type": "code",
      "execution_count": 475,
      "metadata": {},
      "outputs": [
        {
          "data": {
            "text/html": [
              "<div>\n",
              "<style scoped>\n",
              "    .dataframe tbody tr th:only-of-type {\n",
              "        vertical-align: middle;\n",
              "    }\n",
              "\n",
              "    .dataframe tbody tr th {\n",
              "        vertical-align: top;\n",
              "    }\n",
              "\n",
              "    .dataframe thead th {\n",
              "        text-align: right;\n",
              "    }\n",
              "</style>\n",
              "<table border=\"1\" class=\"dataframe\">\n",
              "  <thead>\n",
              "    <tr style=\"text-align: right;\">\n",
              "      <th></th>\n",
              "      <th>Close</th>\n",
              "      <th>High</th>\n",
              "      <th>Low</th>\n",
              "      <th>Open</th>\n",
              "      <th>Volume</th>\n",
              "    </tr>\n",
              "    <tr>\n",
              "      <th>Date</th>\n",
              "      <th></th>\n",
              "      <th></th>\n",
              "      <th></th>\n",
              "      <th></th>\n",
              "      <th></th>\n",
              "    </tr>\n",
              "  </thead>\n",
              "  <tbody>\n",
              "    <tr>\n",
              "      <th>2010-01-04</th>\n",
              "      <td>8.890199</td>\n",
              "      <td>8.998193</td>\n",
              "      <td>8.836202</td>\n",
              "      <td>8.994336</td>\n",
              "      <td>16370000</td>\n",
              "    </tr>\n",
              "    <tr>\n",
              "      <th>2010-01-05</th>\n",
              "      <td>9.098472</td>\n",
              "      <td>9.256605</td>\n",
              "      <td>8.828487</td>\n",
              "      <td>8.855485</td>\n",
              "      <td>30058800</td>\n",
              "    </tr>\n",
              "    <tr>\n",
              "      <th>2010-01-06</th>\n",
              "      <td>9.032903</td>\n",
              "      <td>9.110041</td>\n",
              "      <td>8.971192</td>\n",
              "      <td>9.056044</td>\n",
              "      <td>14209600</td>\n",
              "    </tr>\n",
              "    <tr>\n",
              "      <th>2010-01-07</th>\n",
              "      <td>9.009762</td>\n",
              "      <td>9.075329</td>\n",
              "      <td>8.944194</td>\n",
              "      <td>8.978906</td>\n",
              "      <td>10256000</td>\n",
              "    </tr>\n",
              "    <tr>\n",
              "      <th>2010-01-08</th>\n",
              "      <td>8.978907</td>\n",
              "      <td>9.102328</td>\n",
              "      <td>8.944194</td>\n",
              "      <td>8.948051</td>\n",
              "      <td>10274800</td>\n",
              "    </tr>\n",
              "  </tbody>\n",
              "</table>\n",
              "</div>"
            ],
            "text/plain": [
              "               Close      High       Low      Open    Volume\n",
              "Date                                                        \n",
              "2010-01-04  8.890199  8.998193  8.836202  8.994336  16370000\n",
              "2010-01-05  9.098472  9.256605  8.828487  8.855485  30058800\n",
              "2010-01-06  9.032903  9.110041  8.971192  9.056044  14209600\n",
              "2010-01-07  9.009762  9.075329  8.944194  8.978906  10256000\n",
              "2010-01-08  8.978907  9.102328  8.944194  8.948051  10274800"
            ]
          },
          "execution_count": 475,
          "metadata": {},
          "output_type": "execute_result"
        }
      ],
      "source": [
        "df.head()"
      ]
    },
    {
      "cell_type": "code",
      "execution_count": 476,
      "metadata": {
        "colab": {
          "base_uri": "https://localhost:8080/"
        },
        "id": "-gO1qQfo-rX0",
        "outputId": "b61aa8ff-ed4d-4648-fad0-bda370ae41ff"
      },
      "outputs": [
        {
          "name": "stderr",
          "output_type": "stream",
          "text": [
            "[*********************100%***********************]  1 of 1 completed\n"
          ]
        }
      ],
      "source": [
        "import yfinance as yf\n",
        "\n",
        "ticker_symbol = \"SBUX\"\n",
        "df = yf.download(ticker_symbol, start=\"2010-01-01\", end=\"2023-12-31\")"
      ]
    },
    {
      "cell_type": "code",
      "execution_count": 477,
      "metadata": {
        "colab": {
          "base_uri": "https://localhost:8080/"
        },
        "id": "BmcPg-gCAdkF",
        "outputId": "be959923-bd7b-4434-c9e3-ea271ffd465f"
      },
      "outputs": [
        {
          "data": {
            "text/plain": [
              "MultiIndex([( 'Close', 'SBUX'),\n",
              "            (  'High', 'SBUX'),\n",
              "            (   'Low', 'SBUX'),\n",
              "            (  'Open', 'SBUX'),\n",
              "            ('Volume', 'SBUX')],\n",
              "           names=['Price', 'Ticker'])"
            ]
          },
          "execution_count": 477,
          "metadata": {},
          "output_type": "execute_result"
        }
      ],
      "source": [
        "df.columns"
      ]
    },
    {
      "cell_type": "code",
      "execution_count": 478,
      "metadata": {
        "id": "_t3h8ydjTMJm"
      },
      "outputs": [
        {
          "data": {
            "text/plain": [
              "Date\n",
              "2010-01-04     8.890199\n",
              "2010-01-05     9.098472\n",
              "2010-01-06     9.032903\n",
              "2010-01-07     9.009762\n",
              "2010-01-08     8.978907\n",
              "                ...    \n",
              "2023-12-22    93.432343\n",
              "2023-12-26    93.814774\n",
              "2023-12-27    93.442146\n",
              "2023-12-28    94.069740\n",
              "2023-12-29    94.148186\n",
              "Name: (Close, SBUX), Length: 3522, dtype: float64"
            ]
          },
          "execution_count": 478,
          "metadata": {},
          "output_type": "execute_result"
        }
      ],
      "source": [
        "df[('Close', 'SBUX')]"
      ]
    },
    {
      "cell_type": "code",
      "execution_count": 479,
      "metadata": {},
      "outputs": [],
      "source": [
        "df.columns = ['Close', 'High', 'Low', 'Open', 'Volume']"
      ]
    },
    {
      "cell_type": "code",
      "execution_count": 480,
      "metadata": {},
      "outputs": [
        {
          "data": {
            "text/plain": [
              "Date\n",
              "2010-01-04     8.890199\n",
              "2010-01-05     9.098472\n",
              "2010-01-06     9.032903\n",
              "2010-01-07     9.009762\n",
              "2010-01-08     8.978907\n",
              "                ...    \n",
              "2023-12-22    93.432343\n",
              "2023-12-26    93.814774\n",
              "2023-12-27    93.442146\n",
              "2023-12-28    94.069740\n",
              "2023-12-29    94.148186\n",
              "Name: Close, Length: 3522, dtype: float64"
            ]
          },
          "execution_count": 480,
          "metadata": {},
          "output_type": "execute_result"
        }
      ],
      "source": [
        "df.Close"
      ]
    },
    {
      "cell_type": "code",
      "execution_count": 481,
      "metadata": {},
      "outputs": [
        {
          "data": {
            "text/html": [
              "<div>\n",
              "<style scoped>\n",
              "    .dataframe tbody tr th:only-of-type {\n",
              "        vertical-align: middle;\n",
              "    }\n",
              "\n",
              "    .dataframe tbody tr th {\n",
              "        vertical-align: top;\n",
              "    }\n",
              "\n",
              "    .dataframe thead th {\n",
              "        text-align: right;\n",
              "    }\n",
              "</style>\n",
              "<table border=\"1\" class=\"dataframe\">\n",
              "  <thead>\n",
              "    <tr style=\"text-align: right;\">\n",
              "      <th></th>\n",
              "      <th>Close</th>\n",
              "      <th>High</th>\n",
              "      <th>Low</th>\n",
              "      <th>Open</th>\n",
              "      <th>Volume</th>\n",
              "    </tr>\n",
              "    <tr>\n",
              "      <th>Date</th>\n",
              "      <th></th>\n",
              "      <th></th>\n",
              "      <th></th>\n",
              "      <th></th>\n",
              "      <th></th>\n",
              "    </tr>\n",
              "  </thead>\n",
              "  <tbody>\n",
              "    <tr>\n",
              "      <th>2010-01-04</th>\n",
              "      <td>8.890199</td>\n",
              "      <td>8.998193</td>\n",
              "      <td>8.836202</td>\n",
              "      <td>8.994336</td>\n",
              "      <td>16370000</td>\n",
              "    </tr>\n",
              "    <tr>\n",
              "      <th>2010-01-05</th>\n",
              "      <td>9.098472</td>\n",
              "      <td>9.256605</td>\n",
              "      <td>8.828487</td>\n",
              "      <td>8.855485</td>\n",
              "      <td>30058800</td>\n",
              "    </tr>\n",
              "    <tr>\n",
              "      <th>2010-01-06</th>\n",
              "      <td>9.032903</td>\n",
              "      <td>9.110041</td>\n",
              "      <td>8.971192</td>\n",
              "      <td>9.056044</td>\n",
              "      <td>14209600</td>\n",
              "    </tr>\n",
              "    <tr>\n",
              "      <th>2010-01-07</th>\n",
              "      <td>9.009762</td>\n",
              "      <td>9.075329</td>\n",
              "      <td>8.944194</td>\n",
              "      <td>8.978906</td>\n",
              "      <td>10256000</td>\n",
              "    </tr>\n",
              "    <tr>\n",
              "      <th>2010-01-08</th>\n",
              "      <td>8.978907</td>\n",
              "      <td>9.102328</td>\n",
              "      <td>8.944194</td>\n",
              "      <td>8.948051</td>\n",
              "      <td>10274800</td>\n",
              "    </tr>\n",
              "  </tbody>\n",
              "</table>\n",
              "</div>"
            ],
            "text/plain": [
              "               Close      High       Low      Open    Volume\n",
              "Date                                                        \n",
              "2010-01-04  8.890199  8.998193  8.836202  8.994336  16370000\n",
              "2010-01-05  9.098472  9.256605  8.828487  8.855485  30058800\n",
              "2010-01-06  9.032903  9.110041  8.971192  9.056044  14209600\n",
              "2010-01-07  9.009762  9.075329  8.944194  8.978906  10256000\n",
              "2010-01-08  8.978907  9.102328  8.944194  8.948051  10274800"
            ]
          },
          "execution_count": 481,
          "metadata": {},
          "output_type": "execute_result"
        }
      ],
      "source": [
        "df.head()"
      ]
    },
    {
      "cell_type": "code",
      "execution_count": 482,
      "metadata": {},
      "outputs": [],
      "source": [
        "data = df['Close']"
      ]
    },
    {
      "cell_type": "code",
      "execution_count": 483,
      "metadata": {
        "colab": {
          "base_uri": "https://localhost:8080/"
        },
        "id": "MVMR4xgk_R66",
        "outputId": "68b154d8-33e4-4e5d-a299-c2cd378a0b2a"
      },
      "outputs": [
        {
          "data": {
            "text/plain": [
              "(pandas.core.series.Series, (3522,))"
            ]
          },
          "execution_count": 483,
          "metadata": {},
          "output_type": "execute_result"
        }
      ],
      "source": [
        "type(data), data.shape"
      ]
    },
    {
      "cell_type": "code",
      "execution_count": 484,
      "metadata": {},
      "outputs": [
        {
          "data": {
            "text/plain": [
              "(30,)"
            ]
          },
          "execution_count": 484,
          "metadata": {},
          "output_type": "execute_result"
        }
      ],
      "source": [
        "df['Close'].iloc[:30].shape"
      ]
    },
    {
      "cell_type": "code",
      "execution_count": 485,
      "metadata": {},
      "outputs": [
        {
          "data": {
            "text/plain": [
              "Date\n",
              "2010-01-04    8.890199\n",
              "2010-01-05    9.098472\n",
              "2010-01-06    9.032903\n",
              "2010-01-07    9.009762\n",
              "2010-01-08    8.978907\n",
              "2010-01-11    8.951907\n",
              "2010-01-12    8.801489\n",
              "2010-01-13    9.017475\n",
              "2010-01-14    9.083045\n",
              "2010-01-15    8.975050\n",
              "2010-01-19    9.094615\n",
              "2010-01-20    8.982764\n",
              "2010-01-21    9.133182\n",
              "2010-01-22    8.836201\n",
              "2010-01-25    8.639499\n",
              "2010-01-26    8.693496\n",
              "2010-01-27    8.643356\n",
              "2010-01-28    8.516078\n",
              "2010-01-29    8.404223\n",
              "2010-02-01    8.573928\n",
              "2010-02-02    8.658781\n",
              "2010-02-03    8.651066\n",
              "2010-02-04    8.411939\n",
              "2010-02-05    8.369513\n",
              "2010-02-08    8.450506\n",
              "2010-02-09    8.558500\n",
              "2010-02-10    8.627927\n",
              "2010-02-11    8.701208\n",
              "2010-02-12    8.716636\n",
              "2010-02-16    8.824630\n",
              "Name: Close, dtype: float64"
            ]
          },
          "execution_count": 485,
          "metadata": {},
          "output_type": "execute_result"
        }
      ],
      "source": [
        "df['Close'].iloc[:30]"
      ]
    },
    {
      "cell_type": "markdown",
      "metadata": {
        "id": "G5Lo-DFL_xEe"
      },
      "source": [
        "# 13. seq_len=30 을 고려하여 X, y dataset 을 생성하는 코드를 작성하세요. 이때, X 는 3d, y 는 2d 로 shape 을 조정해 주세요 (hint: reshape)"
      ]
    },
    {
      "cell_type": "code",
      "execution_count": 486,
      "metadata": {},
      "outputs": [
        {
          "data": {
            "text/plain": [
              "(numpy.ndarray, (3522,))"
            ]
          },
          "execution_count": 486,
          "metadata": {},
          "output_type": "execute_result"
        }
      ],
      "source": [
        "import numpy as np\n",
        "\n",
        "data_np = data.values\n",
        "type(data_np), data_np.shape"
      ]
    },
    {
      "cell_type": "code",
      "execution_count": 487,
      "metadata": {},
      "outputs": [
        {
          "data": {
            "text/plain": [
              "((30,), 8.928767204284668)"
            ]
          },
          "execution_count": 487,
          "metadata": {},
          "output_type": "execute_result"
        }
      ],
      "source": [
        "seq_len = 30\n",
        "data_np[0:0+seq_len].shape, data_np[0+seq_len]"
      ]
    },
    {
      "cell_type": "code",
      "execution_count": 488,
      "metadata": {},
      "outputs": [
        {
          "data": {
            "text/plain": [
              "((30,), 8.971192359924316)"
            ]
          },
          "execution_count": 488,
          "metadata": {},
          "output_type": "execute_result"
        }
      ],
      "source": [
        "data_np[1:1+seq_len].shape, data_np[1+seq_len]"
      ]
    },
    {
      "cell_type": "code",
      "execution_count": 489,
      "metadata": {},
      "outputs": [
        {
          "data": {
            "text/plain": [
              "((30,), 9.009761810302734)"
            ]
          },
          "execution_count": 489,
          "metadata": {},
          "output_type": "execute_result"
        }
      ],
      "source": [
        "data_np[2:2+seq_len].shape, data_np[2+seq_len]"
      ]
    },
    {
      "cell_type": "code",
      "execution_count": 490,
      "metadata": {
        "id": "l8wWed18_lxe"
      },
      "outputs": [],
      "source": [
        "import numpy as np\n",
        "\n",
        "data_np = data.values\n",
        "\n",
        "seq_len = 30\n",
        "X, y = [], []\n",
        "\n",
        "for i in range(len(data_np)-seq_len) :\n",
        "  X.append(data_np[i:i+seq_len])\n",
        "  y.append(data_np[i+seq_len])\n",
        "  \n",
        "  \n",
        "  \n",
        "X = np.array(X).reshape(-1,seq_len,1)\n",
        "y = np.array(y).reshape(-1,1)"
      ]
    },
    {
      "cell_type": "code",
      "execution_count": 491,
      "metadata": {
        "colab": {
          "base_uri": "https://localhost:8080/"
        },
        "id": "hDPEyBtsBCkp",
        "outputId": "148ac337-7b68-493a-c56c-0c39e90624d6"
      },
      "outputs": [
        {
          "data": {
            "text/plain": [
              "(numpy.ndarray, numpy.ndarray, (3492, 30, 1), (3492, 1))"
            ]
          },
          "execution_count": 491,
          "metadata": {},
          "output_type": "execute_result"
        }
      ],
      "source": [
        "type(X), type(y), X.shape, y.shape"
      ]
    },
    {
      "cell_type": "markdown",
      "metadata": {
        "id": "x3klCQcKB8XM"
      },
      "source": [
        "# 14. 13번에서 생성한 데이터셋을 이용하여 DataLoder 객체를 생성하고, 11번을 참고하여 데이터에 알맞은 모델을 생성합니다 (hidden_size=10)."
      ]
    },
    {
      "cell_type": "code",
      "execution_count": 492,
      "metadata": {
        "id": "P9-OG9IBC8Bi"
      },
      "outputs": [],
      "source": [
        "from torch.utils.data import DataLoader, TensorDataset\n",
        "\n",
        "X_data, y_data = torch.tensor(X).float(), torch.tensor(y).float()\n",
        "loader_train = DataLoader(TensorDataset(X_data, y_data), batch_size=32, shuffle=True)"
      ]
    },
    {
      "cell_type": "code",
      "execution_count": 493,
      "metadata": {
        "id": "GtkCQEHfBdjU"
      },
      "outputs": [],
      "source": [
        "# model = "
      ]
    },
    {
      "cell_type": "code",
      "execution_count": 494,
      "metadata": {
        "colab": {
          "base_uri": "https://localhost:8080/"
        },
        "id": "wsl9DgoAC6mY",
        "outputId": "9e19354d-ca3c-46b4-d2fb-6ac21b91363b"
      },
      "outputs": [
        {
          "name": "stdout",
          "output_type": "stream",
          "text": [
            "torch.Size([32, 1])\n"
          ]
        }
      ],
      "source": [
        "for I, label in loader_train:\n",
        "  print(model(I).shape)\n",
        "  break"
      ]
    },
    {
      "cell_type": "markdown",
      "metadata": {
        "id": "ScfzF-AyFFqN"
      },
      "source": [
        "# 15. 모델을 훈련하기 위한 train loop 를 작성하여 모델을 훈련시킵니다. loop 가 한 번만 성공적으로 동작하도록 해 보세요.\n",
        "\n",
        "* Loss: nn.MSELoss\n",
        "* Optimizer: optim.Adam"
      ]
    },
    {
      "cell_type": "code",
      "execution_count": 495,
      "metadata": {
        "id": "tWna3nxoExjq"
      },
      "outputs": [],
      "source": [
        "loss_fn = nn.MSELoss()\n",
        "optimizer = torch.optim.Adam(model.parameters())"
      ]
    },
    {
      "cell_type": "code",
      "execution_count": 496,
      "metadata": {},
      "outputs": [
        {
          "name": "stdout",
          "output_type": "stream",
          "text": [
            "3964.58984375\n"
          ]
        },
        {
          "data": {
            "text/plain": [
              "36.04172585227273"
            ]
          },
          "execution_count": 496,
          "metadata": {},
          "output_type": "execute_result"
        }
      ],
      "source": [
        "total_loss = 0\n",
        "\n",
        "for X_batch, y_batch in loader_train:\n",
        "  y_pred = model(X_batch)\n",
        "  optimizer.zero_grad()\n",
        "  loss = loss_fn(y_pred, y_batch)\n",
        "  loss.backward()\n",
        "  optimizer.step()\n",
        "  print(loss.item())\n",
        "  total_loss += loss.item()\n",
        "  break\n",
        "\n",
        "total_loss/len(loader_train)\n",
        "\n",
        "\n"
      ]
    },
    {
      "cell_type": "markdown",
      "metadata": {
        "id": "AUJmZw0MHD6V"
      },
      "source": [
        "# 16. epochs=200 으로 모델을 훈련시킵니다. 한 번의 epoch 마다 loss 값을 출력합니다.\n",
        "\n",
        "* GPU 를 사용할 수 있으면 적극 활용하세요."
      ]
    },
    {
      "cell_type": "code",
      "execution_count": 497,
      "metadata": {
        "colab": {
          "base_uri": "https://localhost:8080/"
        },
        "id": "911aXU5AGw8h",
        "outputId": "28ac2899-7964-4471-95de-63a3d65480f8"
      },
      "outputs": [
        {
          "name": "stdout",
          "output_type": "stream",
          "text": [
            "epoch: 0, loss: 3563.744131747159\n",
            "epoch: 1, loss: 3350.0023504083806\n",
            "epoch: 2, loss: 3212.4983076615767\n",
            "epoch: 3, loss: 3043.496845037287\n",
            "epoch: 4, loss: 2898.7633356267756\n",
            "epoch: 5, loss: 2759.3764149058948\n",
            "epoch: 6, loss: 2662.0689641779118\n",
            "epoch: 7, loss: 2547.270487837358\n",
            "epoch: 8, loss: 2467.302131791548\n",
            "epoch: 9, loss: 2361.6195351340552\n",
            "epoch: 10, loss: 2277.8442815607245\n",
            "epoch: 11, loss: 2206.295741410689\n",
            "epoch: 12, loss: 2120.4854214754973\n",
            "epoch: 13, loss: 2032.6917319557883\n",
            "epoch: 14, loss: 1977.4001686789773\n",
            "epoch: 15, loss: 1901.850837846236\n",
            "epoch: 16, loss: 1823.420028409091\n",
            "epoch: 17, loss: 1768.8311484596945\n",
            "epoch: 18, loss: 1701.1736655495383\n",
            "epoch: 19, loss: 1637.9772516424005\n",
            "epoch: 20, loss: 1579.421406693892\n",
            "epoch: 21, loss: 1519.1390053488992\n",
            "epoch: 22, loss: 1465.2115234375\n",
            "epoch: 23, loss: 1416.2234818892045\n",
            "epoch: 24, loss: 1369.9008872292259\n",
            "epoch: 25, loss: 1304.3508470015092\n",
            "epoch: 26, loss: 1264.4042314009232\n",
            "epoch: 27, loss: 1206.098295177113\n",
            "epoch: 28, loss: 1171.711386940696\n",
            "epoch: 29, loss: 1117.9717018821023\n",
            "epoch: 30, loss: 1091.2400803999467\n",
            "epoch: 31, loss: 1052.8243313876064\n",
            "epoch: 32, loss: 1000.4840434681286\n",
            "epoch: 33, loss: 962.9700309059837\n",
            "epoch: 34, loss: 920.3801986694336\n",
            "epoch: 35, loss: 888.258979658647\n",
            "epoch: 36, loss: 867.5216733065519\n",
            "epoch: 37, loss: 817.9393824837424\n",
            "epoch: 38, loss: 793.5333906693892\n",
            "epoch: 39, loss: 763.7502559315075\n",
            "epoch: 40, loss: 734.1308484164151\n",
            "epoch: 41, loss: 719.640309975364\n",
            "epoch: 42, loss: 677.781904185902\n",
            "epoch: 43, loss: 647.3425065474077\n",
            "epoch: 44, loss: 623.483712421764\n",
            "epoch: 45, loss: 596.0151016300375\n",
            "epoch: 46, loss: 574.7660726373846\n",
            "epoch: 47, loss: 556.1249292547053\n",
            "epoch: 48, loss: 533.4088029341265\n",
            "epoch: 49, loss: 508.6618338844993\n",
            "epoch: 50, loss: 493.4285822781649\n",
            "epoch: 51, loss: 469.1862179842862\n",
            "epoch: 52, loss: 450.5857162475586\n",
            "epoch: 53, loss: 428.2343680641868\n",
            "epoch: 54, loss: 410.5415097323331\n",
            "epoch: 55, loss: 392.8115101900968\n",
            "epoch: 56, loss: 376.4354759216309\n",
            "epoch: 57, loss: 355.0510451923717\n",
            "epoch: 58, loss: 338.25936967838896\n",
            "epoch: 59, loss: 322.593371477994\n",
            "epoch: 60, loss: 311.5773894570091\n",
            "epoch: 61, loss: 294.4223250649192\n",
            "epoch: 62, loss: 278.4569224270907\n",
            "epoch: 63, loss: 264.3815165086226\n",
            "epoch: 64, loss: 250.68760626512494\n",
            "epoch: 65, loss: 238.3908899827437\n",
            "epoch: 66, loss: 226.70546542080965\n",
            "epoch: 67, loss: 216.01973342895508\n",
            "epoch: 68, loss: 204.19949347756125\n",
            "epoch: 69, loss: 191.91245699863543\n",
            "epoch: 70, loss: 182.21080296256326\n",
            "epoch: 71, loss: 172.40019971674138\n",
            "epoch: 72, loss: 163.438063361428\n",
            "epoch: 73, loss: 153.40970982638274\n",
            "epoch: 74, loss: 144.73267674879594\n",
            "epoch: 75, loss: 136.4861694861542\n",
            "epoch: 76, loss: 130.61294687444513\n",
            "epoch: 77, loss: 121.17225960384715\n",
            "epoch: 78, loss: 115.45791733481667\n",
            "epoch: 79, loss: 107.9181453704834\n",
            "epoch: 80, loss: 100.94901135184548\n",
            "epoch: 81, loss: 95.79700230685147\n",
            "epoch: 82, loss: 90.56687189882452\n",
            "epoch: 83, loss: 83.26812520270998\n",
            "epoch: 84, loss: 78.05611563053998\n",
            "epoch: 85, loss: 73.38730379451405\n",
            "epoch: 86, loss: 69.51080314462835\n",
            "epoch: 87, loss: 64.19522922255776\n",
            "epoch: 88, loss: 60.49810988686301\n",
            "epoch: 89, loss: 55.85468794595111\n",
            "epoch: 90, loss: 53.07891314246438\n",
            "epoch: 91, loss: 48.82381197539243\n",
            "epoch: 92, loss: 46.318353312665764\n",
            "epoch: 93, loss: 43.41290435574272\n",
            "epoch: 94, loss: 39.155086718906055\n",
            "epoch: 95, loss: 36.2191395629536\n",
            "epoch: 96, loss: 33.25874165242369\n",
            "epoch: 97, loss: 31.753600137883968\n",
            "epoch: 98, loss: 28.294504385780204\n",
            "epoch: 99, loss: 26.178658196601\n",
            "epoch: 100, loss: 24.19971291510896\n",
            "epoch: 101, loss: 22.31416922590949\n",
            "epoch: 102, loss: 20.55008121512153\n",
            "epoch: 103, loss: 18.944080181758512\n",
            "epoch: 104, loss: 17.462887028537015\n",
            "epoch: 105, loss: 15.99808542565866\n",
            "epoch: 106, loss: 14.823777189342813\n",
            "epoch: 107, loss: 13.742473913322796\n",
            "epoch: 108, loss: 12.513635909015482\n",
            "epoch: 109, loss: 11.543415953896263\n",
            "epoch: 110, loss: 10.677734716913918\n",
            "epoch: 111, loss: 9.898587383871728\n",
            "epoch: 112, loss: 9.35003724640066\n",
            "epoch: 113, loss: 8.433876580541783\n",
            "epoch: 114, loss: 7.891036524623632\n",
            "epoch: 115, loss: 7.298670460419221\n",
            "epoch: 116, loss: 6.858206908811223\n",
            "epoch: 117, loss: 6.502054889906536\n",
            "epoch: 118, loss: 5.784628464823419\n",
            "epoch: 119, loss: 5.4871564588086175\n",
            "epoch: 120, loss: 5.054810060696169\n",
            "epoch: 121, loss: 4.625506287813186\n",
            "epoch: 122, loss: 4.2838642943989145\n",
            "epoch: 123, loss: 4.241503527489575\n",
            "epoch: 124, loss: 3.9535114803097464\n",
            "epoch: 125, loss: 3.560204055160284\n",
            "epoch: 126, loss: 3.3933773336085404\n",
            "epoch: 127, loss: 3.282633642174981\n",
            "epoch: 128, loss: 3.053089402751489\n",
            "epoch: 129, loss: 2.724172261221842\n",
            "epoch: 130, loss: 2.6676568004218013\n",
            "epoch: 131, loss: 2.7159375448118555\n",
            "epoch: 132, loss: 2.3841421325098384\n",
            "epoch: 133, loss: 2.3486949530514805\n",
            "epoch: 134, loss: 2.1673887388950046\n",
            "epoch: 135, loss: 2.2192220663482494\n",
            "epoch: 136, loss: 2.091584304178303\n",
            "epoch: 137, loss: 2.0271230602806263\n",
            "epoch: 138, loss: 1.9181802608750083\n",
            "epoch: 139, loss: 1.849814594435421\n",
            "epoch: 140, loss: 1.8459836619821461\n",
            "epoch: 141, loss: 1.7679921291091225\n",
            "epoch: 142, loss: 1.7659045241095803\n",
            "epoch: 143, loss: 2.193461247330362\n",
            "epoch: 144, loss: 1.8746486084027725\n",
            "epoch: 145, loss: 1.6650380077687177\n",
            "epoch: 146, loss: 1.7839313867417248\n",
            "epoch: 147, loss: 1.6405848042531448\n",
            "epoch: 148, loss: 1.7573313569480722\n",
            "epoch: 149, loss: 1.7370852727781643\n",
            "epoch: 150, loss: 1.5983967744491316\n",
            "epoch: 151, loss: 1.6863404395905408\n",
            "epoch: 152, loss: 1.4799971729516983\n",
            "epoch: 153, loss: 1.4945655679160899\n",
            "epoch: 154, loss: 1.4848447381095453\n",
            "epoch: 155, loss: 1.4517838345332579\n",
            "epoch: 156, loss: 1.4937743544578552\n",
            "epoch: 157, loss: 1.4332884059710935\n",
            "epoch: 158, loss: 1.4104522862217643\n",
            "epoch: 159, loss: 1.3713526808402754\n",
            "epoch: 160, loss: 1.3560517651790922\n",
            "epoch: 161, loss: 1.5351724115285006\n",
            "epoch: 162, loss: 1.417553328925913\n",
            "epoch: 163, loss: 1.3607945908199657\n",
            "epoch: 164, loss: 1.501500840620561\n",
            "epoch: 165, loss: 1.3571926133199173\n",
            "epoch: 166, loss: 1.3363816971128637\n",
            "epoch: 167, loss: 1.308986364034089\n",
            "epoch: 168, loss: 1.3340326899831945\n",
            "epoch: 169, loss: 1.3515563306483356\n",
            "epoch: 170, loss: 1.5334544068033045\n",
            "epoch: 171, loss: 1.2754566263746132\n",
            "epoch: 172, loss: 1.2826218558983369\n",
            "epoch: 173, loss: 1.314640598134561\n",
            "epoch: 174, loss: 1.2403467786583033\n",
            "epoch: 175, loss: 1.3739472806453705\n",
            "epoch: 176, loss: 1.332575783268972\n",
            "epoch: 177, loss: 1.2150690059770237\n",
            "epoch: 178, loss: 1.3451051485809413\n",
            "epoch: 179, loss: 1.2905943283303218\n",
            "epoch: 180, loss: 1.244326860254461\n",
            "epoch: 181, loss: 1.4109445607120341\n",
            "epoch: 182, loss: 1.2721008638089353\n",
            "epoch: 183, loss: 1.3932603340257297\n",
            "epoch: 184, loss: 1.3820929275317626\n",
            "epoch: 185, loss: 1.3013612646948207\n",
            "epoch: 186, loss: 1.3915326917036013\n",
            "epoch: 187, loss: 1.2501960066231814\n",
            "epoch: 188, loss: 1.2551522720266473\n",
            "epoch: 189, loss: 1.280413729223338\n",
            "epoch: 190, loss: 1.2802675127983094\n",
            "epoch: 191, loss: 1.3596943733367053\n",
            "epoch: 192, loss: 1.3181521914222023\n",
            "epoch: 193, loss: 1.2586689907041464\n",
            "epoch: 194, loss: 1.2397428516975857\n",
            "epoch: 195, loss: 1.282735209573399\n",
            "epoch: 196, loss: 1.2676401661200958\n",
            "epoch: 197, loss: 1.2400387889959597\n",
            "epoch: 198, loss: 1.3418334035710855\n",
            "epoch: 199, loss: 1.2169750980355523\n"
          ]
        }
      ],
      "source": [
        "epochs = 200\n",
        "for epoch in range(epochs):\n",
        "  total_loss = 0\n",
        "  for X_batch, y_batch in loader_train:\n",
        "      # print(X.shape), print(y.shape)\n",
        "      # break\n",
        "      y_pred = model(X_batch)\n",
        "      optimizer.zero_grad()\n",
        "      loss = loss_fn(y_pred, y_batch)\n",
        "      loss.backward()\n",
        "      optimizer.step()\n",
        "      # print(loss.item())\n",
        "      total_loss += loss.item()    \n",
        "      # break\n",
        "\n",
        "  epoch_loss = total_loss / len(loader_train)\n",
        "  print(f'epoch: {epoch}, loss: {epoch_loss}')"
      ]
    },
    {
      "cell_type": "markdown",
      "metadata": {
        "id": "TfHzl8EmO4fD"
      },
      "source": [
        "# 17. 실제 값과 훈련된 모델의 예측값을 plot 으로 그려봅니다."
      ]
    },
    {
      "cell_type": "code",
      "execution_count": 498,
      "metadata": {
        "colab": {
          "base_uri": "https://localhost:8080/",
          "height": 448
        },
        "id": "NulT4y50Hb1S",
        "outputId": "1f46569e-0881-4f52-dadd-3c6e7cfe3329"
      },
      "outputs": [
        {
          "data": {
            "text/plain": [
              "[<matplotlib.lines.Line2D at 0x18929682f30>]"
            ]
          },
          "execution_count": 498,
          "metadata": {},
          "output_type": "execute_result"
        },
        {
          "data": {
            "image/png": "[encoded data removed]",
            "text/plain": [
              "<Figure size 640x480 with 1 Axes>"
            ]
          },
          "metadata": {},
          "output_type": "display_data"
        }
      ],
      "source": [
        "import matplotlib.pyplot as plt\n",
        "\n",
        "model.eval()\n",
        "\n",
        "X_tensor = torch.tensor(X).float()\n",
        "with torch.no_grad():\n",
        "  y_pred = model(X_tensor).numpy()\n",
        "  #y_pred = model(X_tensor).cpu().numpy()\n",
        "\n",
        "plt.plot(df.index[seq_len:], y)\n",
        "plt.plot(df.index[seq_len:], y_pred)"
      ]
    },
    {
      "cell_type": "markdown",
      "metadata": {
        "id": "dcPfJKByPBxT"
      },
      "source": [
        "# 18. 모델의 성능을 MSE, RMSE, MAE, R2 메트릭을 이용하여 측정해 봅니다."
      ]
    },
    {
      "cell_type": "code",
      "execution_count": 499,
      "metadata": {
        "colab": {
          "base_uri": "https://localhost:8080/"
        },
        "id": "nF7EoWRXJjGQ",
        "outputId": "bc148b61-a823-44b8-b106-d2ff57c4ebf6"
      },
      "outputs": [
        {
          "data": {
            "text/plain": [
              "'MSE: 1.13752, RMSE: 1.06655, MAE: 0.65037, R2: 0.99871'"
            ]
          },
          "execution_count": 499,
          "metadata": {},
          "output_type": "execute_result"
        }
      ],
      "source": [
        "from sklearn.metrics import mean_squared_error, mean_absolute_error, r2_score\n",
        "\n",
        "mse = mean_squared_error(y, y_pred)\n",
        "rmse = np.sqrt(mse)\n",
        "mae = mean_absolute_error(y, y_pred)\n",
        "r2 = r2_score(y, y_pred)\n",
        "\n",
        "f\"MSE: {mse:.5f}, RMSE: {rmse:.5f}, MAE: {mae:.5f}, R2: {r2:.5f}\""
      ]
    },
    {
      "cell_type": "markdown",
      "metadata": {
        "id": "d41xsezKPMUm"
      },
      "source": [
        "# 19. 12번에서 생성한 데이터를 이용하여 다음을 수행하시오.\n",
        "\n",
        "* sklearn 의 MinMaxScaler 를 이용하여 데이터를 정규화 합니다. (fit_transform)\n",
        "* 9:2 의 비율로 train/test 로 데이터를 split 하여, X_trian, X_test, y_train, y_test 변수에 저장합니다.\n",
        "* train/test 용 DataLoader 객체를 생성하여 loader_train, loader_test 변수에 저장합니다.\n",
        "* 모델 훈련 시에는 loader_train 을 이용하고, 모델의 예측력을 확인할 때는 loader_test 를 이용합니다."
      ]
    },
    {
      "cell_type": "code",
      "execution_count": null,
      "metadata": {
        "colab": {
          "base_uri": "https://localhost:8080/"
        },
        "id": "2mGeMlepOpGh",
        "outputId": "1785dea0-8b6d-40a5-b585-380dd3b33d48"
      },
      "outputs": [],
      "source": []
    },
    {
      "cell_type": "code",
      "execution_count": 500,
      "metadata": {
        "id": "imOSrKADRhOr"
      },
      "outputs": [
        {
          "ename": "NameError",
          "evalue": "name 'loader_test' is not defined",
          "output_type": "error",
          "traceback": [
            "\u001b[1;31m---------------------------------------------------------------------------\u001b[0m",
            "\u001b[1;31mNameError\u001b[0m                                 Traceback (most recent call last)",
            "Cell \u001b[1;32mIn[500], line 5\u001b[0m\n\u001b[0;32m      3\u001b[0m y_pred_list \u001b[38;5;241m=\u001b[39m []\n\u001b[0;32m      4\u001b[0m \u001b[38;5;28;01mwith\u001b[39;00m torch\u001b[38;5;241m.\u001b[39mno_grad():\n\u001b[1;32m----> 5\u001b[0m   \u001b[38;5;28;01mfor\u001b[39;00m X_batch, _ \u001b[38;5;129;01min\u001b[39;00m \u001b[43mloader_test\u001b[49m:\n\u001b[0;32m      6\u001b[0m     y_pred \u001b[38;5;241m=\u001b[39m model(X_batch)\u001b[38;5;241m.\u001b[39mnumpy()\n\u001b[0;32m      7\u001b[0m     \u001b[38;5;66;03m#y_pred = model(X_batch).cpu().numpy()\u001b[39;00m\n",
            "\u001b[1;31mNameError\u001b[0m: name 'loader_test' is not defined"
          ]
        }
      ],
      "source": [
        "model.eval()\n",
        "\n",
        "y_pred_list = []\n",
        "with torch.no_grad():\n",
        "  for X_batch, _ in loader_test:\n",
        "    y_pred = model(X_batch).numpy()\n",
        "    #y_pred = model(X_batch).cpu().numpy()\n",
        "    y_pred_list.append(y_pred)\n",
        "\n",
        "y_pred = np.concatenate(y_pred_list, axis=0)"
      ]
    },
    {
      "cell_type": "code",
      "execution_count": null,
      "metadata": {
        "colab": {
          "base_uri": "https://localhost:8080/",
          "height": 485
        },
        "id": "04vRjZSyQ28r",
        "outputId": "03f5ec01-9fd1-4d59-cce9-1f3dd2ad3b78"
      },
      "outputs": [
        {
          "data": {
            "text/plain": [
              "[<matplotlib.lines.Line2D at 0x728b89298680>]"
            ]
          },
          "execution_count": 168,
          "metadata": {},
          "output_type": "execute_result"
        },
        {
          "data": {
            "image/png": "[encoded data removed]",
            "text/plain": [
              "<Figure size 640x480 with 1 Axes>"
            ]
          },
          "metadata": {},
          "output_type": "display_data"
        }
      ],
      "source": [
        "import matplotlib.pyplot as plt\n",
        "\n",
        "y_test_ori = scaler.inverse_transform(y_test)\n",
        "y_pred_ori = scaler.inverse_transform(y_pred)\n",
        "\n",
        "plt.xticks(rotation=45)\n",
        "plt.plot(df.index[train_size + seq_len:], y_test_ori)\n",
        "plt.plot(df.index[train_size + seq_len:], y_pred_ori)"
      ]
    },
    {
      "cell_type": "code",
      "execution_count": null,
      "metadata": {
        "colab": {
          "base_uri": "https://localhost:8080/"
        },
        "id": "zETuhTcKQ4Wz",
        "outputId": "2aa0eee9-9cd4-4d17-d53f-956bfee43851"
      },
      "outputs": [
        {
          "name": "stdout",
          "output_type": "stream",
          "text": [
            "MSE: 2.65828, RMSE: 1.63042, MAE: 1.14909, R2: 0.94367\n"
          ]
        }
      ],
      "source": [
        "from sklearn.metrics import mean_squared_error, mean_absolute_error, r2_score\n",
        "\n",
        "mse = mean_squared_error(y_test_ori, y_pred_ori)\n",
        "rmse = np.sqrt(mse)\n",
        "mae = mean_absolute_error(y_test_ori, y_pred_ori)\n",
        "r2 = r2_score(y_test_ori, y_pred_ori)\n",
        "\n",
        "print(f\"MSE: {mse:.5f}, RMSE: {rmse:.5f}, MAE: {mae:.5f}, R2: {r2:.5f}\")"
      ]
    },
    {
      "cell_type": "code",
      "execution_count": null,
      "metadata": {
        "id": "ZII2s9VgSmkl"
      },
      "outputs": [],
      "source": []
    }
  ],
  "metadata": {
    "colab": {
      "provenance": []
    },
    "kernelspec": {
      "display_name": "py3_11",
      "language": "python",
      "name": "python3"
    },
    "language_info": {
      "codemirror_mode": {
        "name": "ipython",
        "version": 3
      },
      "file_extension": ".py",
      "mimetype": "text/x-python",
      "name": "python",
      "nbconvert_exporter": "python",
      "pygments_lexer": "ipython3",
      "version": "3.12.4"
    }
  },
  "nbformat": 4,
  "nbformat_minor": 0
}
