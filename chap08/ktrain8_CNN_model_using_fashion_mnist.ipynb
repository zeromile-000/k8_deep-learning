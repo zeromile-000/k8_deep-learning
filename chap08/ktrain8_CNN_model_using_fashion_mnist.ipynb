{
  "cells": [
    {
      "cell_type": "markdown",
      "metadata": {
        "id": "429E4yJc8k9l"
      },
      "source": [
        "# pytorch에서 제공하는 fashion minst 데이터셋과 CNN 을 이용한 분류 모델을 훈련하는 실습입니다.\n",
        "\n",
        "p.179 5.2 합성곱 신경망 맛보기 참고"
      ]
    },
    {
      "cell_type": "markdown",
      "metadata": {
        "id": "sd4dw1shvnaS"
      },
      "source": [
        "## 1. 자신의 컴퓨터에 설치된 torch, torchvision의 버전을 확인하고, GPU 지원 여부를 확인합니다.\n"
      ]
    },
    {
      "cell_type": "code",
      "execution_count": 31,
      "metadata": {
        "colab": {
          "base_uri": "https://localhost:8080/"
        },
        "id": "ubpd12hCvzIw",
        "outputId": "90fa181d-b45f-4af7-e520-c5e0ec9c1f70"
      },
      "outputs": [
        {
          "data": {
            "text/plain": [
              "'2.2.2'"
            ]
          },
          "execution_count": 31,
          "metadata": {},
          "output_type": "execute_result"
        }
      ],
      "source": [
        "import torch\n",
        "torch.__version__"
      ]
    },
    {
      "cell_type": "code",
      "execution_count": 32,
      "metadata": {
        "colab": {
          "base_uri": "https://localhost:8080/"
        },
        "id": "V_ByPxGawIup",
        "outputId": "d792af51-a65a-4015-c592-0e174714db5d"
      },
      "outputs": [
        {
          "data": {
            "text/plain": [
              "'0.17.2'"
            ]
          },
          "execution_count": 32,
          "metadata": {},
          "output_type": "execute_result"
        }
      ],
      "source": [
        "import torchvision\n",
        "torchvision.__version__"
      ]
    },
    {
      "cell_type": "code",
      "execution_count": 33,
      "metadata": {
        "colab": {
          "base_uri": "https://localhost:8080/"
        },
        "id": "ZpOdCjUS9dbJ",
        "outputId": "50d7ee06-4446-495e-d4f2-20b42869b5a3"
      },
      "outputs": [
        {
          "data": {
            "text/plain": [
              "True"
            ]
          },
          "execution_count": 33,
          "metadata": {},
          "output_type": "execute_result"
        }
      ],
      "source": [
        "import torch\n",
        "torch.cuda.is_available()"
      ]
    },
    {
      "cell_type": "markdown",
      "metadata": {
        "id": "p6ne68lZw4EQ"
      },
      "source": [
        "## 2. 자신의 컴퓨터에 설치된 python 버전 및 라이브러리 설치 경로를 확인해 보세요."
      ]
    },
    {
      "cell_type": "code",
      "execution_count": 34,
      "metadata": {
        "colab": {
          "base_uri": "https://localhost:8080/"
        },
        "id": "JZk1TB_vxA5j",
        "outputId": "71c5e28e-6557-44fc-89e0-90dbc9a01fee"
      },
      "outputs": [
        {
          "data": {
            "text/plain": [
              "(['c:\\\\Users\\\\user\\\\anaconda3\\\\envs\\\\py3_11\\\\python312.zip',\n",
              "  'c:\\\\Users\\\\user\\\\anaconda3\\\\envs\\\\py3_11\\\\DLLs',\n",
              "  'c:\\\\Users\\\\user\\\\anaconda3\\\\envs\\\\py3_11\\\\Lib',\n",
              "  'c:\\\\Users\\\\user\\\\anaconda3\\\\envs\\\\py3_11',\n",
              "  '',\n",
              "  'c:\\\\Users\\\\user\\\\anaconda3\\\\envs\\\\py3_11\\\\Lib\\\\site-packages',\n",
              "  'c:\\\\Users\\\\user\\\\anaconda3\\\\envs\\\\py3_11\\\\Lib\\\\site-packages\\\\win32',\n",
              "  'c:\\\\Users\\\\user\\\\anaconda3\\\\envs\\\\py3_11\\\\Lib\\\\site-packages\\\\win32\\\\lib',\n",
              "  'c:\\\\Users\\\\user\\\\anaconda3\\\\envs\\\\py3_11\\\\Lib\\\\site-packages\\\\Pythonwin',\n",
              "  'c:\\\\Users\\\\user\\\\anaconda3\\\\envs\\\\py3_11\\\\Lib\\\\site-packages\\\\setuptools\\\\_vendor'],\n",
              " '3.12.4 | packaged by Anaconda, Inc. | (main, Jun 18 2024, 15:03:56) [MSC v.1929 64 bit (AMD64)]')"
            ]
          },
          "execution_count": 34,
          "metadata": {},
          "output_type": "execute_result"
        }
      ],
      "source": [
        "import sys\n",
        "sys.path, sys.version"
      ]
    },
    {
      "cell_type": "markdown",
      "metadata": {
        "id": "N6g8OlSsxJxj"
      },
      "source": [
        "## 3. torchvision에서 제공하는 fashion mnist dataset (torchvision.datasets.FashionMNIST) 를 다운로드 받으세요. 이때, train (6만장), test(1만장) 을 각각 다운로드 받아 dataset_train 과 dataset_test 변수에 각각 저장하세요."
      ]
    },
    {
      "cell_type": "code",
      "execution_count": 35,
      "metadata": {},
      "outputs": [],
      "source": [
        "import numpy"
      ]
    },
    {
      "cell_type": "code",
      "execution_count": 36,
      "metadata": {},
      "outputs": [
        {
          "name": "stdout",
          "output_type": "stream",
          "text": [
            "Name: torchvision\n",
            "Version: 0.17.2\n",
            "Summary: image and video datasets and models for torch deep learning\n",
            "Home-page: https://github.com/pytorch/vision\n",
            "Author: PyTorch Core Team\n",
            "Author-email: soumith@pytorch.org\n",
            "License: BSD\n",
            "Location: C:\\Users\\user\\anaconda3\\envs\\py3_11\\Lib\\site-packages\n",
            "Requires: numpy, pillow, torch\n",
            "Required-by: \n"
          ]
        }
      ],
      "source": [
        "!pip show torchvision"
      ]
    },
    {
      "cell_type": "code",
      "execution_count": 37,
      "metadata": {},
      "outputs": [],
      "source": [
        "### 라이브러리 호출\n",
        "import numpy as np\n",
        "import matplotlib.pyplot as plt\n",
        "\n",
        "import torch\n",
        "import torch.nn as nn\n",
        "from torch.autograd import Variable\n",
        "import torch.nn.functional as F\n",
        "\n",
        "import torchvision\n",
        "import torchvision.transforms as transforms # 데이터 전처리에 사용하는 라이브러리\n",
        "from torch.utils.data import Dataset, DataLoader\n"
      ]
    },
    {
      "cell_type": "code",
      "execution_count": 38,
      "metadata": {},
      "outputs": [],
      "source": [
        "device = torch.device(\"cuda:0\" if torch.cuda.is_available() else \"cpu\")"
      ]
    },
    {
      "cell_type": "code",
      "execution_count": 39,
      "metadata": {},
      "outputs": [],
      "source": [
        "train_dataset = torchvision.datasets.FashionMNIST(\"../chap05/data/\", download=True, # 내려받을 위치 지정, 해당 파라미터의 위치에 해당 데이터셋이 있는지 확인한 후 내려받음\n",
        "                                                  transform=transforms.Compose([transforms.ToTensor()])) # 이미지를 텐서(0~1)로 변경\n",
        "\n",
        "test_dataset = torchvision.datasets.FashionMNIST(\"../chap05/data/\", download=True, \n",
        "                                                 train=False, transform=transforms.Compose([transforms.ToTensor()]))"
      ]
    },
    {
      "cell_type": "code",
      "execution_count": 40,
      "metadata": {},
      "outputs": [],
      "source": [
        "train_loader = torch.utils.data.DataLoader(train_dataset,\n",
        "                                          batch_size=100)\n",
        "test_loader = torch.utils.data.DataLoader(test_dataset,\n",
        "                                          batch_size=100)"
      ]
    },
    {
      "cell_type": "code",
      "execution_count": 41,
      "metadata": {},
      "outputs": [
        {
          "data": {
            "text/plain": [
              "torch.Size([60000, 28, 28])"
            ]
          },
          "execution_count": 41,
          "metadata": {},
          "output_type": "execute_result"
        }
      ],
      "source": [
        "train_dataset.data.shape # 60000개 저장"
      ]
    },
    {
      "cell_type": "code",
      "execution_count": 42,
      "metadata": {},
      "outputs": [
        {
          "data": {
            "text/plain": [
              "torch.Size([10000, 28, 28])"
            ]
          },
          "execution_count": 42,
          "metadata": {},
          "output_type": "execute_result"
        }
      ],
      "source": [
        "test_dataset.data.shape # 10000개 저장"
      ]
    },
    {
      "cell_type": "code",
      "execution_count": 43,
      "metadata": {},
      "outputs": [
        {
          "data": {
            "image/png": "[encoded data removed]",
            "text/plain": [
              "<Figure size 800x800 with 20 Axes>"
            ]
          },
          "metadata": {},
          "output_type": "display_data"
        }
      ],
      "source": [
        "labels_map = {0 : 'T-Shirt', 1 : 'Trouser', 2 : 'Pullover', 3 : 'Dress', 4 : 'Coat', \n",
        "              5 : 'Sandal', 6 : 'Shirt', 7 : 'Sneaker', 8 : 'Bag', 9 : 'Ankle Boot'}\n",
        "\n",
        "fig = plt.figure(figsize=(8,8));\n",
        "columns = 4;\n",
        "rows = 5;\n",
        "for i in range(1, columns * rows + 1) :\n",
        "  img_xy = np.random.randint(len(train_dataset))\n",
        "  img = train_dataset[img_xy][0][0,:,:]\n",
        "  fig.add_subplot(rows, columns, i)\n",
        "  plt.title(labels_map[train_dataset[img_xy][1]])\n",
        "  plt.axis('off')\n",
        "  plt.imshow(img, cmap='gray')\n",
        "plt.show() # 20개의 이미지 데이터를 시각적으로 표현\n"
      ]
    },
    {
      "cell_type": "code",
      "execution_count": 44,
      "metadata": {},
      "outputs": [],
      "source": [
        "from torchvision.datasets import FashionMNIST"
      ]
    },
    {
      "cell_type": "code",
      "execution_count": 45,
      "metadata": {},
      "outputs": [
        {
          "data": {
            "text/plain": [
              "(torch.Tensor, torch.Size([60000, 28, 28]))"
            ]
          },
          "execution_count": 45,
          "metadata": {},
          "output_type": "execute_result"
        }
      ],
      "source": [
        "dataset_train = FashionMNIST('.',download=True)\n",
        "dir(dataset_train)\n",
        "type(dataset_train.data), dataset_train.data.shape"
      ]
    },
    {
      "cell_type": "code",
      "execution_count": 46,
      "metadata": {},
      "outputs": [
        {
          "data": {
            "text/plain": [
              "torch.Size([10000, 28, 28])"
            ]
          },
          "execution_count": 46,
          "metadata": {},
          "output_type": "execute_result"
        }
      ],
      "source": [
        "dataset_test = FashionMNIST('.', download=False, train=False)\n",
        "dataset_test.data.shape"
      ]
    },
    {
      "cell_type": "markdown",
      "metadata": {
        "id": "GmEDZfItzTLf"
      },
      "source": [
        "## 4. torch.rand 를 이용하여 (32, 1, 28, 28) 크기의 데이터를 생성해 input 변수에 저장하세요."
      ]
    },
    {
      "cell_type": "code",
      "execution_count": 47,
      "metadata": {
        "colab": {
          "base_uri": "https://localhost:8080/"
        },
        "id": "5couCFCZyHJ_",
        "outputId": "22b4329f-7585-43cd-8508-d82c58dd1761"
      },
      "outputs": [
        {
          "data": {
            "text/plain": [
              "torch.Size([32, 1, 28, 28])"
            ]
          },
          "execution_count": 47,
          "metadata": {},
          "output_type": "execute_result"
        }
      ],
      "source": [
        "input = torch.rand((32, 1, 28, 28)) # 1은 컬러 옵션 # 중요하다!\n",
        "input.shape"
      ]
    },
    {
      "cell_type": "markdown",
      "metadata": {
        "id": "b1Be1C7e1wLF"
      },
      "source": [
        "## 5. torch.nn.Conv2d 를 이용하여 (32, 8, 28, 28) 출력을 내는 CNN 레이어를 생성하여 cnn1 변수에 저장하세요. (hint: padding='same' 사용해 보기)"
      ]
    },
    {
      "cell_type": "code",
      "execution_count": 48,
      "metadata": {},
      "outputs": [
        {
          "data": {
            "text/plain": [
              "torch.Size([32, 8, 28, 28])"
            ]
          },
          "execution_count": 48,
          "metadata": {},
          "output_type": "execute_result"
        }
      ],
      "source": [
        "cnn1 = nn.Conv2d(in_channels = 1, out_channels = 8, kernel_size = 3, stride = 1, padding='same')\n",
        "x = cnn1(input)\n",
        "x.shape"
      ]
    },
    {
      "cell_type": "markdown",
      "metadata": {
        "id": "XGJtuZKr28LA"
      },
      "source": [
        "## 6. input 데이터를 cnn1 레이어에 통과시킨 후, activation function(torch.nn.Sigmoid) 레이어를 생성하여 sigmoid1 변수에 저장하고, x 를 여기에 적용한 결과를 다시 x 변수에 저장하세요."
      ]
    },
    {
      "cell_type": "code",
      "execution_count": 49,
      "metadata": {
        "colab": {
          "base_uri": "https://localhost:8080/"
        },
        "id": "NA4MxU2W2MpH",
        "outputId": "ef8387fa-505d-43cf-910c-58b95516dd23"
      },
      "outputs": [
        {
          "data": {
            "text/plain": [
              "torch.Size([32, 8, 28, 28])"
            ]
          },
          "execution_count": 49,
          "metadata": {},
          "output_type": "execute_result"
        }
      ],
      "source": [
        "sigmoid1 = torch.nn.Sigmoid()\n",
        "x = sigmoid1(x)\n",
        "x.shape"
      ]
    },
    {
      "cell_type": "markdown",
      "metadata": {
        "id": "NfMxMJdp3XYK"
      },
      "source": [
        "## 7. x 변수에 저장된 feature maps 데이터의 width, height 의 크기를 절반으로 만드는 torch.nn.MaxPool2D 를 생성하여 pool1 변수에 저장합니다. 다음으로 생성한 풀링 레이어에 x 변수를 통과시켜 그 결과를 다시 x 변수에 저장하세요. 단, x 변수의 입력 전과 입력 후의 shape 을 출력하여 크기가 절반으로 줄어 들었는지 확인해 봅니다."
      ]
    },
    {
      "cell_type": "code",
      "execution_count": 50,
      "metadata": {
        "colab": {
          "base_uri": "https://localhost:8080/"
        },
        "id": "7h9xkq162U3F",
        "outputId": "a7c2e13a-ef81-4b9a-86ef-d124334d76ac"
      },
      "outputs": [
        {
          "data": {
            "text/plain": [
              "torch.Size([32, 8, 14, 14])"
            ]
          },
          "execution_count": 50,
          "metadata": {},
          "output_type": "execute_result"
        }
      ],
      "source": [
        "maxpool1 = torch.nn.MaxPool2d(2) # 사이즈 풀링\n",
        "x = maxpool1(x)\n",
        "x.shape\n",
        "\n"
      ]
    },
    {
      "cell_type": "markdown",
      "metadata": {
        "id": "d_Uc96Q14ELV"
      },
      "source": [
        "## 8. torch.nn.Conv2d 를 이용하여 (32, 8, 14, 14) 입력을 받아 (32, 16, 14, 14) 출력을 내는 CNN 레이어를 생성하여 cnn2 변수에 저장하세요. torch.nn.Sigmoid 레이어를 생성하여 sigmoid2 변수에 저장합니다. 이어서 생성한 활성화 함수를 x에 적용한 결과를 다시 x 변수에 저장하세요.\n",
        "\n"
      ]
    },
    {
      "cell_type": "code",
      "execution_count": 87,
      "metadata": {
        "colab": {
          "base_uri": "https://localhost:8080/"
        },
        "id": "93Fvuzxm2cok",
        "outputId": "5ef07521-b907-472c-c769-96de53842ebf"
      },
      "outputs": [
        {
          "ename": "RuntimeError",
          "evalue": "Expected 3D (unbatched) or 4D (batched) input to conv2d, but got input of size: [32, 10]",
          "output_type": "error",
          "traceback": [
            "\u001b[1;31m---------------------------------------------------------------------------\u001b[0m",
            "\u001b[1;31mRuntimeError\u001b[0m                              Traceback (most recent call last)",
            "Cell \u001b[1;32mIn[87], line 2\u001b[0m\n\u001b[0;32m      1\u001b[0m cnn2 \u001b[38;5;241m=\u001b[39m torch\u001b[38;5;241m.\u001b[39mnn\u001b[38;5;241m.\u001b[39mConv2d(in_channels \u001b[38;5;241m=\u001b[39m \u001b[38;5;241m8\u001b[39m, out_channels \u001b[38;5;241m=\u001b[39m \u001b[38;5;241m16\u001b[39m,  kernel_size \u001b[38;5;241m=\u001b[39m \u001b[38;5;241m3\u001b[39m, stride \u001b[38;5;241m=\u001b[39m \u001b[38;5;241m1\u001b[39m, padding\u001b[38;5;241m=\u001b[39m\u001b[38;5;124m'\u001b[39m\u001b[38;5;124msame\u001b[39m\u001b[38;5;124m'\u001b[39m)\n\u001b[1;32m----> 2\u001b[0m x \u001b[38;5;241m=\u001b[39m \u001b[43mcnn2\u001b[49m\u001b[43m(\u001b[49m\u001b[43mx\u001b[49m\u001b[43m)\u001b[49m\n\u001b[0;32m      3\u001b[0m x\u001b[38;5;241m.\u001b[39mshape\n",
            "File \u001b[1;32mc:\\Users\\user\\anaconda3\\envs\\py3_11\\Lib\\site-packages\\torch\\nn\\modules\\module.py:1511\u001b[0m, in \u001b[0;36mModule._wrapped_call_impl\u001b[1;34m(self, *args, **kwargs)\u001b[0m\n\u001b[0;32m   1509\u001b[0m     \u001b[38;5;28;01mreturn\u001b[39;00m \u001b[38;5;28mself\u001b[39m\u001b[38;5;241m.\u001b[39m_compiled_call_impl(\u001b[38;5;241m*\u001b[39margs, \u001b[38;5;241m*\u001b[39m\u001b[38;5;241m*\u001b[39mkwargs)  \u001b[38;5;66;03m# type: ignore[misc]\u001b[39;00m\n\u001b[0;32m   1510\u001b[0m \u001b[38;5;28;01melse\u001b[39;00m:\n\u001b[1;32m-> 1511\u001b[0m     \u001b[38;5;28;01mreturn\u001b[39;00m \u001b[38;5;28;43mself\u001b[39;49m\u001b[38;5;241;43m.\u001b[39;49m\u001b[43m_call_impl\u001b[49m\u001b[43m(\u001b[49m\u001b[38;5;241;43m*\u001b[39;49m\u001b[43margs\u001b[49m\u001b[43m,\u001b[49m\u001b[43m \u001b[49m\u001b[38;5;241;43m*\u001b[39;49m\u001b[38;5;241;43m*\u001b[39;49m\u001b[43mkwargs\u001b[49m\u001b[43m)\u001b[49m\n",
            "File \u001b[1;32mc:\\Users\\user\\anaconda3\\envs\\py3_11\\Lib\\site-packages\\torch\\nn\\modules\\module.py:1520\u001b[0m, in \u001b[0;36mModule._call_impl\u001b[1;34m(self, *args, **kwargs)\u001b[0m\n\u001b[0;32m   1515\u001b[0m \u001b[38;5;66;03m# If we don't have any hooks, we want to skip the rest of the logic in\u001b[39;00m\n\u001b[0;32m   1516\u001b[0m \u001b[38;5;66;03m# this function, and just call forward.\u001b[39;00m\n\u001b[0;32m   1517\u001b[0m \u001b[38;5;28;01mif\u001b[39;00m \u001b[38;5;129;01mnot\u001b[39;00m (\u001b[38;5;28mself\u001b[39m\u001b[38;5;241m.\u001b[39m_backward_hooks \u001b[38;5;129;01mor\u001b[39;00m \u001b[38;5;28mself\u001b[39m\u001b[38;5;241m.\u001b[39m_backward_pre_hooks \u001b[38;5;129;01mor\u001b[39;00m \u001b[38;5;28mself\u001b[39m\u001b[38;5;241m.\u001b[39m_forward_hooks \u001b[38;5;129;01mor\u001b[39;00m \u001b[38;5;28mself\u001b[39m\u001b[38;5;241m.\u001b[39m_forward_pre_hooks\n\u001b[0;32m   1518\u001b[0m         \u001b[38;5;129;01mor\u001b[39;00m _global_backward_pre_hooks \u001b[38;5;129;01mor\u001b[39;00m _global_backward_hooks\n\u001b[0;32m   1519\u001b[0m         \u001b[38;5;129;01mor\u001b[39;00m _global_forward_hooks \u001b[38;5;129;01mor\u001b[39;00m _global_forward_pre_hooks):\n\u001b[1;32m-> 1520\u001b[0m     \u001b[38;5;28;01mreturn\u001b[39;00m \u001b[43mforward_call\u001b[49m\u001b[43m(\u001b[49m\u001b[38;5;241;43m*\u001b[39;49m\u001b[43margs\u001b[49m\u001b[43m,\u001b[49m\u001b[43m \u001b[49m\u001b[38;5;241;43m*\u001b[39;49m\u001b[38;5;241;43m*\u001b[39;49m\u001b[43mkwargs\u001b[49m\u001b[43m)\u001b[49m\n\u001b[0;32m   1522\u001b[0m \u001b[38;5;28;01mtry\u001b[39;00m:\n\u001b[0;32m   1523\u001b[0m     result \u001b[38;5;241m=\u001b[39m \u001b[38;5;28;01mNone\u001b[39;00m\n",
            "File \u001b[1;32mc:\\Users\\user\\anaconda3\\envs\\py3_11\\Lib\\site-packages\\torch\\nn\\modules\\conv.py:460\u001b[0m, in \u001b[0;36mConv2d.forward\u001b[1;34m(self, input)\u001b[0m\n\u001b[0;32m    459\u001b[0m \u001b[38;5;28;01mdef\u001b[39;00m \u001b[38;5;21mforward\u001b[39m(\u001b[38;5;28mself\u001b[39m, \u001b[38;5;28minput\u001b[39m: Tensor) \u001b[38;5;241m-\u001b[39m\u001b[38;5;241m>\u001b[39m Tensor:\n\u001b[1;32m--> 460\u001b[0m     \u001b[38;5;28;01mreturn\u001b[39;00m \u001b[38;5;28;43mself\u001b[39;49m\u001b[38;5;241;43m.\u001b[39;49m\u001b[43m_conv_forward\u001b[49m\u001b[43m(\u001b[49m\u001b[38;5;28;43minput\u001b[39;49m\u001b[43m,\u001b[49m\u001b[43m \u001b[49m\u001b[38;5;28;43mself\u001b[39;49m\u001b[38;5;241;43m.\u001b[39;49m\u001b[43mweight\u001b[49m\u001b[43m,\u001b[49m\u001b[43m \u001b[49m\u001b[38;5;28;43mself\u001b[39;49m\u001b[38;5;241;43m.\u001b[39;49m\u001b[43mbias\u001b[49m\u001b[43m)\u001b[49m\n",
            "File \u001b[1;32mc:\\Users\\user\\anaconda3\\envs\\py3_11\\Lib\\site-packages\\torch\\nn\\modules\\conv.py:456\u001b[0m, in \u001b[0;36mConv2d._conv_forward\u001b[1;34m(self, input, weight, bias)\u001b[0m\n\u001b[0;32m    452\u001b[0m \u001b[38;5;28;01mif\u001b[39;00m \u001b[38;5;28mself\u001b[39m\u001b[38;5;241m.\u001b[39mpadding_mode \u001b[38;5;241m!=\u001b[39m \u001b[38;5;124m'\u001b[39m\u001b[38;5;124mzeros\u001b[39m\u001b[38;5;124m'\u001b[39m:\n\u001b[0;32m    453\u001b[0m     \u001b[38;5;28;01mreturn\u001b[39;00m F\u001b[38;5;241m.\u001b[39mconv2d(F\u001b[38;5;241m.\u001b[39mpad(\u001b[38;5;28minput\u001b[39m, \u001b[38;5;28mself\u001b[39m\u001b[38;5;241m.\u001b[39m_reversed_padding_repeated_twice, mode\u001b[38;5;241m=\u001b[39m\u001b[38;5;28mself\u001b[39m\u001b[38;5;241m.\u001b[39mpadding_mode),\n\u001b[0;32m    454\u001b[0m                     weight, bias, \u001b[38;5;28mself\u001b[39m\u001b[38;5;241m.\u001b[39mstride,\n\u001b[0;32m    455\u001b[0m                     _pair(\u001b[38;5;241m0\u001b[39m), \u001b[38;5;28mself\u001b[39m\u001b[38;5;241m.\u001b[39mdilation, \u001b[38;5;28mself\u001b[39m\u001b[38;5;241m.\u001b[39mgroups)\n\u001b[1;32m--> 456\u001b[0m \u001b[38;5;28;01mreturn\u001b[39;00m \u001b[43mF\u001b[49m\u001b[38;5;241;43m.\u001b[39;49m\u001b[43mconv2d\u001b[49m\u001b[43m(\u001b[49m\u001b[38;5;28;43minput\u001b[39;49m\u001b[43m,\u001b[49m\u001b[43m \u001b[49m\u001b[43mweight\u001b[49m\u001b[43m,\u001b[49m\u001b[43m \u001b[49m\u001b[43mbias\u001b[49m\u001b[43m,\u001b[49m\u001b[43m \u001b[49m\u001b[38;5;28;43mself\u001b[39;49m\u001b[38;5;241;43m.\u001b[39;49m\u001b[43mstride\u001b[49m\u001b[43m,\u001b[49m\n\u001b[0;32m    457\u001b[0m \u001b[43m                \u001b[49m\u001b[38;5;28;43mself\u001b[39;49m\u001b[38;5;241;43m.\u001b[39;49m\u001b[43mpadding\u001b[49m\u001b[43m,\u001b[49m\u001b[43m \u001b[49m\u001b[38;5;28;43mself\u001b[39;49m\u001b[38;5;241;43m.\u001b[39;49m\u001b[43mdilation\u001b[49m\u001b[43m,\u001b[49m\u001b[43m \u001b[49m\u001b[38;5;28;43mself\u001b[39;49m\u001b[38;5;241;43m.\u001b[39;49m\u001b[43mgroups\u001b[49m\u001b[43m)\u001b[49m\n",
            "\u001b[1;31mRuntimeError\u001b[0m: Expected 3D (unbatched) or 4D (batched) input to conv2d, but got input of size: [32, 10]"
          ]
        }
      ],
      "source": [
        "cnn2 = torch.nn.Conv2d(in_channels = 8, out_channels = 16,  kernel_size = 3, stride = 1, padding='same')\n",
        "x = cnn2(x)\n",
        "x.shape"
      ]
    },
    {
      "cell_type": "code",
      "execution_count": 52,
      "metadata": {},
      "outputs": [
        {
          "data": {
            "text/plain": [
              "torch.Size([32, 16, 14, 14])"
            ]
          },
          "execution_count": 52,
          "metadata": {},
          "output_type": "execute_result"
        }
      ],
      "source": [
        "sigmoid2 = torch.nn.Sigmoid()\n",
        "x=sigmoid2(x)\n",
        "x.shape"
      ]
    },
    {
      "cell_type": "markdown",
      "metadata": {
        "id": "hhjLiNuH6klO"
      },
      "source": [
        "## 9. x 변수에 저장된 데이터의 width, height 의 크기를 절반으로 만드는 torch.nn.MaxPool2D 를 생성하여 pool2 변수에 저장합니다. 다음으로 생성한 풀링 레이어에 x 변수를 통과시켜 그 결과를 다시 x 변수에 저장하세요. 단, x 변수의 입력 전과 입력 후의 shape 을 출력하여 크기가 절반으로 줄어 들었는지 확인해 봅니다."
      ]
    },
    {
      "cell_type": "code",
      "execution_count": 53,
      "metadata": {
        "colab": {
          "base_uri": "https://localhost:8080/"
        },
        "id": "RniQf8I444u0",
        "outputId": "0c80c6c0-50c6-4a21-af6f-f1a81070bd94"
      },
      "outputs": [
        {
          "data": {
            "text/plain": [
              "torch.Size([32, 16, 7, 7])"
            ]
          },
          "execution_count": 53,
          "metadata": {},
          "output_type": "execute_result"
        }
      ],
      "source": [
        "maxpool2 = torch.nn.MaxPool2d(2)\n",
        "x = maxpool2(x)\n",
        "x.shape"
      ]
    },
    {
      "cell_type": "markdown",
      "metadata": {
        "id": "12ztvk_S8jwk"
      },
      "source": [
        "## 10. torch.nn.Flatten 를 이용하여 (32, 16, 7, 7) 입력을 받아 (32, 784) 출력을 내는 Flatten 레이어를 생성하여 flatten 변수에 저장하세요. 다음으로 생성한 flatten 레이어에 x 변수를 통과시켜 그 결과를 다시 x 변수에 저장하세요."
      ]
    },
    {
      "cell_type": "code",
      "execution_count": 54,
      "metadata": {
        "colab": {
          "base_uri": "https://localhost:8080/"
        },
        "id": "9fuyy0lH9hzR",
        "outputId": "34232791-efdd-445a-ee7b-274156371f94"
      },
      "outputs": [
        {
          "data": {
            "text/plain": [
              "torch.Size([32, 784])"
            ]
          },
          "execution_count": 54,
          "metadata": {},
          "output_type": "execute_result"
        }
      ],
      "source": [
        "flatten = torch.nn.Flatten()\n",
        "x = flatten(x)\n",
        "x.shape"
      ]
    },
    {
      "cell_type": "markdown",
      "metadata": {
        "id": "FsVZdfuJ-gs2"
      },
      "source": [
        "## 11. torch.nn.Linear 를 이용하여 (32, 784) 입력을 받아 (32, 128) 을 출력하는 linear 레이어를 생성하여 linear1 변수에 저장하세요. 다음으로 생성한 flatten 레이어에 x 변수를 통과시켜 그 결과를 다시 x 변수에 저장하세요."
      ]
    },
    {
      "cell_type": "code",
      "execution_count": 55,
      "metadata": {
        "colab": {
          "base_uri": "https://localhost:8080/"
        },
        "id": "lILMxXR187uF",
        "outputId": "6189cecb-8e08-4518-b15c-1c571b94987b"
      },
      "outputs": [
        {
          "data": {
            "text/plain": [
              "torch.Size([32, 128])"
            ]
          },
          "execution_count": 55,
          "metadata": {},
          "output_type": "execute_result"
        }
      ],
      "source": [
        "linear1 = torch.nn.Linear(16 * 7 * 7, 128)\n",
        "x = linear1(x)\n",
        "x.shape\n"
      ]
    },
    {
      "cell_type": "markdown",
      "metadata": {
        "id": "lyqKwW5RInYx"
      },
      "source": [
        "## 12. torch.nn.Sigmoid 레이어를 생성하여 sigmoid3 변수에 저장하고, x 변수를 활성화 함수에 통과 시킨 후, 다시 x 변수에 저장하세요."
      ]
    },
    {
      "cell_type": "code",
      "execution_count": 56,
      "metadata": {
        "colab": {
          "base_uri": "https://localhost:8080/"
        },
        "id": "6yQX8TZtIwr3",
        "outputId": "126ee08c-b5cc-4498-8def-5f450ba168a8"
      },
      "outputs": [
        {
          "data": {
            "text/plain": [
              "torch.Size([32, 128])"
            ]
          },
          "execution_count": 56,
          "metadata": {},
          "output_type": "execute_result"
        }
      ],
      "source": [
        "sigmoid3 = torch.nn.Sigmoid()\n",
        "x = sigmoid3(x)\n",
        "x.shape"
      ]
    },
    {
      "cell_type": "markdown",
      "metadata": {
        "id": "x6VbJcpKJIX0"
      },
      "source": [
        "## 13. torch.nn.Linear 를 이용하여 (32, 128) 입력을 받아 (32, 10) 을 출력하는 linear 레이어를 생성하여 linear2 변수에 저장하세요. 다음으로 torch.nn.Softmax 에 x 변수를 통과시켜 그 결과를 다시 x 변수에 저장하세요."
      ]
    },
    {
      "cell_type": "code",
      "execution_count": 57,
      "metadata": {
        "colab": {
          "base_uri": "https://localhost:8080/"
        },
        "id": "sDThMjs58-vP",
        "outputId": "f737d654-3cde-455e-cd58-3c1a202fa0bf"
      },
      "outputs": [
        {
          "data": {
            "text/plain": [
              "torch.Size([32, 10])"
            ]
          },
          "execution_count": 57,
          "metadata": {},
          "output_type": "execute_result"
        }
      ],
      "source": [
        "linear2 = torch.nn.Linear(128, 10)\n",
        "x = linear2(x)\n",
        "x.shape"
      ]
    },
    {
      "cell_type": "code",
      "execution_count": 58,
      "metadata": {},
      "outputs": [
        {
          "data": {
            "text/plain": [
              "torch.Size([32, 10])"
            ]
          },
          "execution_count": 58,
          "metadata": {},
          "output_type": "execute_result"
        }
      ],
      "source": [
        "softmax = torch.nn.Softmax(dim=1)\n",
        "x = softmax(x)\n",
        "x.shape"
      ]
    },
    {
      "cell_type": "code",
      "execution_count": 59,
      "metadata": {},
      "outputs": [
        {
          "data": {
            "text/plain": [
              "tensor([9, 9, 9, 9, 9, 9, 9, 9, 9, 9, 9, 9, 9, 9, 9, 9, 9, 9, 9, 9, 9, 9, 9, 9,\n",
              "        9, 9, 9, 9, 9, 9, 9, 9])"
            ]
          },
          "execution_count": 59,
          "metadata": {},
          "output_type": "execute_result"
        }
      ],
      "source": [
        "values, indexs = torch.max(x, dim=1)\n",
        "indexs"
      ]
    },
    {
      "cell_type": "markdown",
      "metadata": {
        "id": "5lbDLqYjK2ap"
      },
      "source": [
        "## 14. torch.nn.Sequential 을 이용하여 features 레이어와 classifier 레이어를 정의하세요.\n",
        "\n",
        "* features: cnn1, sigmoid1, pool1, cnn2, sigmoid2, pool2 객체들을 이용\n",
        "\n",
        "* torch.rand 를 이용하여 (32, 1, 28, 28) 데이터를 생성 후, features 에 전달하여 출력 shape 이 (32, 16, 7, 7) 인지 확인해 보세요.\n",
        "\n",
        "* classifier: linear1 sigmoid3, linear2, softmax 객체들을 이용\n",
        "\n",
        "* torch.rand 를 이용하여 (32, 16 * 7 * 7) 데이터를 생성 후, classifier 전달하여 출력 shape 이 (32, 10) 인지 확인해 보세요."
      ]
    },
    {
      "cell_type": "code",
      "execution_count": 60,
      "metadata": {
        "colab": {
          "base_uri": "https://localhost:8080/"
        },
        "id": "84ketCc1Mchv",
        "outputId": "966821d2-c428-4196-e82a-22fe30b84853"
      },
      "outputs": [
        {
          "name": "stdout",
          "output_type": "stream",
          "text": [
            "입력 전 x1.shape: torch.Size([32, 1, 28, 28])\n",
            "입력 후 x1.shape: torch.Size([32, 16, 7, 7])\n"
          ]
        }
      ],
      "source": [
        "features = nn.Sequential(cnn1, sigmoid1, maxpool1, cnn2, sigmoid2, maxpool2)\n",
        "x1 = torch.rand(32,1,28,28)\n",
        "print(f\"입력 전 x1.shape: {x1.shape}\")\n",
        "x1 = features(x1)\n",
        "print(f\"입력 후 x1.shape: {x1.shape}\")"
      ]
    },
    {
      "cell_type": "code",
      "execution_count": 61,
      "metadata": {
        "colab": {
          "base_uri": "https://localhost:8080/"
        },
        "id": "pklWwtUJOUFU",
        "outputId": "f7b65466-4ec7-44b7-93e8-d8d1b34d3aa7"
      },
      "outputs": [
        {
          "name": "stdout",
          "output_type": "stream",
          "text": [
            "입력 전 x2.shape: torch.Size([32, 784])\n",
            "입력 후 x2.shape: torch.Size([32, 10])\n"
          ]
        }
      ],
      "source": [
        "classifier = nn.Sequential(linear1, sigmoid3, linear2, softmax)\n",
        "x2 = torch.rand(32,16*7*7)\n",
        "print(f\"입력 전 x2.shape: {x2.shape}\")\n",
        "x2 = classifier(x2)\n",
        "print(f\"입력 후 x2.shape: {x2.shape}\")"
      ]
    },
    {
      "cell_type": "markdown",
      "metadata": {
        "id": "nN3OPvFxPTLK"
      },
      "source": [
        "## 15. torch.nn.Module 를 상속받아 FashionCNN(torch.nn.Module) 클래스를 정의합니다.\n",
        "\n",
        "* FashionCNN 클래스는 내부 멤버변수로 features 와 classifier 를 가집니다.\n",
        "\n",
        "* torch.nn.Flatten 레이어를 FashionCNN 클래스의 내부 변수 flatten 에 저장합니다.\n",
        "\n",
        "* forward(self, x): 입력으로 들어온 x 를 features > flatten > classifier 순서로 차례대로 통과시킵니다. 각 레이어의 입력은 x 변수이고, 결과 역시 x에 다시 저장합니다. 마지막에 x 를 반환합니다.\n",
        "\n",
        "* FashionCNN 클래스를 이용하여 객체를 만들고, torch.rand 를 이용하여 (32, 1, 28, 28) 데이터를 생성 후, 모델에 데이터를 입력하여 출력 데이터의 shape 이 (32, 10) 으로 나오는지 확인합니다."
      ]
    },
    {
      "cell_type": "code",
      "execution_count": 75,
      "metadata": {
        "colab": {
          "base_uri": "https://localhost:8080/"
        },
        "id": "Qfkf_5QrQtbu",
        "outputId": "9c184127-eca2-4971-aee8-eacdd28bc16b"
      },
      "outputs": [],
      "source": [
        "class FashionCNN(torch.nn.Module):\n",
        "  def __init__(self):\n",
        "    super().__init__()\n",
        "    self.features = features\n",
        "    self.flatten = torch.nn.Flatten()\n",
        "    self.classifier = classifier\n",
        "    \n",
        "  def forward(self, x):\n",
        "    x = self.features(x)\n",
        "    x = self.flatten(x)\n",
        "    return self.classifier(x)"
      ]
    },
    {
      "cell_type": "code",
      "execution_count": 76,
      "metadata": {
        "colab": {
          "base_uri": "https://localhost:8080/"
        },
        "id": "sF1vS4tqQyZh",
        "outputId": "c61795ab-4065-4750-cf42-6ef3a339205c"
      },
      "outputs": [
        {
          "data": {
            "text/plain": [
              "torch.Size([32, 10])"
            ]
          },
          "execution_count": 76,
          "metadata": {},
          "output_type": "execute_result"
        }
      ],
      "source": [
        "input = torch.rand(32, 1, 28, 28)\n",
        "model = FashionCNN()\n",
        "model(input).shape"
      ]
    },
    {
      "cell_type": "markdown",
      "metadata": {
        "id": "pxjXsI7pS6uV"
      },
      "source": [
        "## 16. torch.nn.CrossEntropyLoss 레이어를 생성하여 loss_fn 변수에 저장합니다.\n"
      ]
    },
    {
      "cell_type": "code",
      "execution_count": 77,
      "metadata": {
        "id": "su0X6xfhTRTt"
      },
      "outputs": [],
      "source": [
        "loss_fn = torch.nn.CrossEntropyLoss()"
      ]
    },
    {
      "cell_type": "markdown",
      "metadata": {
        "id": "mmbXbMU2TZyS"
      },
      "source": [
        "## 17. torch.optim.Adam 를 생성하여 optimizer 변수에 저장합니다.\n"
      ]
    },
    {
      "cell_type": "code",
      "execution_count": 78,
      "metadata": {
        "id": "ysA0RlAkTjXo"
      },
      "outputs": [],
      "source": [
        "optimizer = torch.optim.Adam(model.parameters())"
      ]
    },
    {
      "cell_type": "markdown",
      "metadata": {
        "id": "BvQ9hpd4UGro"
      },
      "source": [
        "## 18. 모델 훈련을 위해 dataset_train, dataset_test 데이터로 torch.utils.data.DataLoader 를 batch_size 32 로 생성하여 dataloader_train, dataloader_test 변수에 저장합니다."
      ]
    },
    {
      "cell_type": "code",
      "execution_count": 79,
      "metadata": {
        "id": "XyfOHEUGUUMm"
      },
      "outputs": [],
      "source": [
        "dataloader_train = torch.utils.data.DataLoader(train_dataset, batch_size=32, shuffle=True)\n",
        "dataloader_test = torch.utils.data.DataLoader(test_dataset, batch_size=32, shuffle=True)"
      ]
    },
    {
      "cell_type": "code",
      "execution_count": 80,
      "metadata": {
        "id": "I8BCODD6XndZ"
      },
      "outputs": [
        {
          "name": "stdout",
          "output_type": "stream",
          "text": [
            "torch.Size([32, 1, 28, 28]) torch.Size([32])\n"
          ]
        }
      ],
      "source": [
        "for X, y in dataloader_train:\n",
        "  print(X.shape, y.shape)\n",
        "  break"
      ]
    },
    {
      "cell_type": "markdown",
      "metadata": {
        "id": "Rr3ZYh5XYMBE"
      },
      "source": [
        "### 18-1. 위 코드 실행 시 다음과 같은 에러가 발생하면 torchvision.transforms.ToTensor 객체를 생성하여 FasionMNIST 클래스의 생성자에 전달합니다. 다시 dataset > dataloader 순서로 생성하여 제공되는 for 문이 동작하늕지 확인하세요.\n",
        "\n",
        "```\n",
        "TypeError: default_collate: batch must contain tensors, numpy arrays, numbers, dicts or lists; found <class 'PIL.Image.Image'>\n",
        "```"
      ]
    },
    {
      "cell_type": "code",
      "execution_count": 81,
      "metadata": {
        "id": "AOYT21UnYWkW"
      },
      "outputs": [],
      "source": [
        "from torchvision.transforms import ToTensor\n",
        "\n",
        "transform = torchvision.transforms.ToTensor()\n",
        "test_dataset =  torchvision.datasets.FashionMNIST('.', download=True, transform=transform)\n",
        "dataloader_train = torch.utils.data.DataLoader(train_dataset, batch_size=32, shuffle=True)"
      ]
    },
    {
      "cell_type": "code",
      "execution_count": 82,
      "metadata": {
        "colab": {
          "base_uri": "https://localhost:8080/"
        },
        "id": "BTbeuBDTZe0n",
        "outputId": "2a48450d-c7f5-47e8-85f7-a6091c74cb3d"
      },
      "outputs": [
        {
          "name": "stdout",
          "output_type": "stream",
          "text": [
            "torch.Size([32, 1, 28, 28]) torch.Size([32])\n"
          ]
        }
      ],
      "source": [
        "for X, y in dataloader_train:\n",
        "  print(X.shape, y.shape)\n",
        "  break"
      ]
    },
    {
      "cell_type": "markdown",
      "metadata": {
        "id": "KA6SLfQRarXo"
      },
      "source": [
        "## 19. train loop 를 구현하여 모델을 학습시켜 봅니다."
      ]
    },
    {
      "cell_type": "code",
      "execution_count": 83,
      "metadata": {
        "id": "PJ75ISgIWEzG"
      },
      "outputs": [],
      "source": [
        "for X, y in dataloader_train:\n",
        "    # images, labels = images.to(device), labels.to(device)\n",
        "\n",
        "    y_pred = model(X)     #(32, 10)\n",
        "    # print(loss_fn(y_pred, y))\n",
        "    loss = loss_fn(y_pred, y)\n",
        "    loss.backward()\n",
        "    optimizer.step()\n",
        "    break"
      ]
    },
    {
      "cell_type": "markdown",
      "metadata": {
        "id": "xS69rIIP8IOq"
      },
      "source": [
        "## 20. 이번에는 train loop 를 구현 시 epochs 10 으로 모델을 학습시키고, 한번의 epoch 이 종료될 때 마다 loss_history 리스트에 loss 값을 저장하고 loss 값을 콘솔에 출력합니다."
      ]
    },
    {
      "cell_type": "code",
      "execution_count": 84,
      "metadata": {
        "colab": {
          "base_uri": "https://localhost:8080/"
        },
        "id": "-Q11MVTLgL9F",
        "outputId": "2d2d2f24-553f-443d-d08a-b83e5f262cbd"
      },
      "outputs": [
        {
          "name": "stdout",
          "output_type": "stream",
          "text": [
            "Epoch 0/10, Loss: 2.303032398223877\n",
            "Epoch 1/10, Loss: 2.295825958251953\n",
            "Epoch 2/10, Loss: 2.303886890411377\n",
            "Epoch 3/10, Loss: 2.3080036640167236\n",
            "Epoch 4/10, Loss: 2.3233678340911865\n",
            "Epoch 5/10, Loss: 2.304553270339966\n",
            "Epoch 6/10, Loss: 2.294105052947998\n",
            "Epoch 7/10, Loss: 2.315807342529297\n",
            "Epoch 8/10, Loss: 2.3072540760040283\n",
            "Epoch 9/10, Loss: 2.3292574882507324\n"
          ]
        }
      ],
      "source": [
        "epochs = 10\n",
        "loss_hist = []\n",
        "for i in range(epochs):\n",
        "    for X, y in dataloader_train:\n",
        "        y_pred = model(X)     #(32, 10)\n",
        "        # print(loss_fn(y_pred, y))\n",
        "        loss = loss_fn(y_pred, y)\n",
        "        loss_hist.append(loss)\n",
        "        loss.backward()\n",
        "        optimizer.step()\n",
        "        break\n",
        "    print(f\"Epoch {i}/{epochs}, Loss: {loss}\")"
      ]
    },
    {
      "cell_type": "code",
      "execution_count": null,
      "metadata": {
        "colab": {
          "base_uri": "https://localhost:8080/",
          "height": 447
        },
        "id": "A8Al-E9hgo_u",
        "outputId": "65c7650d-4e23-4e23-dcdd-8af7bd472035"
      },
      "outputs": [
        {
          "data": {
            "text/plain": [
              "[<matplotlib.lines.Line2D at 0x78986ec8bd10>]"
            ]
          },
          "execution_count": 232,
          "metadata": {},
          "output_type": "execute_result"
        },
        {
          "data": {
            "image/png": "[encoded data removed]",
            "text/plain": [
              "<Figure size 640x480 with 1 Axes>"
            ]
          },
          "metadata": {},
          "output_type": "display_data"
        }
      ],
      "source": []
    },
    {
      "cell_type": "markdown",
      "metadata": {
        "id": "63lAoqJU9ulb"
      },
      "source": [
        "## 21. GPU 를 사용하여 모델을 학습시켜 보세요. GPU 의 메모리가 허용하는 한도까지 batch_size 를 늘려서 다시 실행해 보세요."
      ]
    },
    {
      "cell_type": "code",
      "execution_count": null,
      "metadata": {
        "colab": {
          "base_uri": "https://localhost:8080/"
        },
        "id": "HtR7J6XR8BBD",
        "outputId": "1463bcfc-dfbe-49fe-8298-802c428fc0ec"
      },
      "outputs": [
        {
          "name": "stdout",
          "output_type": "stream",
          "text": [
            "device: cuda\n"
          ]
        }
      ],
      "source": []
    },
    {
      "cell_type": "code",
      "execution_count": null,
      "metadata": {
        "colab": {
          "base_uri": "https://localhost:8080/"
        },
        "id": "rYfS7Azg-JAx",
        "outputId": "d77157c9-16e2-4950-a7fc-6a79f8c10d2f"
      },
      "outputs": [
        {
          "name": "stdout",
          "output_type": "stream",
          "text": [
            "Epoch 1/10, Loss: 1.5366\n",
            "Epoch 2/10, Loss: 1.5336\n",
            "Epoch 3/10, Loss: 1.5307\n",
            "Epoch 4/10, Loss: 1.5286\n",
            "Epoch 5/10, Loss: 1.5258\n",
            "Epoch 6/10, Loss: 1.5233\n",
            "Epoch 7/10, Loss: 1.5218\n",
            "Epoch 8/10, Loss: 1.5197\n",
            "Epoch 9/10, Loss: 1.5178\n",
            "Epoch 10/10, Loss: 1.5158\n"
          ]
        }
      ],
      "source": []
    }
  ],
  "metadata": {
    "colab": {
      "provenance": []
    },
    "kernelspec": {
      "display_name": "py3_11",
      "language": "python",
      "name": "python3"
    },
    "language_info": {
      "codemirror_mode": {
        "name": "ipython",
        "version": 3
      },
      "file_extension": ".py",
      "mimetype": "text/x-python",
      "name": "python",
      "nbconvert_exporter": "python",
      "pygments_lexer": "ipython3",
      "version": "3.12.4"
    }
  },
  "nbformat": 4,
  "nbformat_minor": 0
}
